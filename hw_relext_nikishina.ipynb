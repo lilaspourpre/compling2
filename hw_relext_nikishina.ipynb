{
 "cells": [
  {
   "cell_type": "code",
   "execution_count": 1,
   "metadata": {},
   "outputs": [],
   "source": [
    "import json\n",
    "import os\n",
    "from collections import Counter\n",
    "from itertools import combinations\n",
    "from sklearn.model_selection import KFold\n",
    "from sklearn.model_selection import train_test_split\n",
    "from sklearn.linear_model import LogisticRegression\n",
    "from sklearn.metrics import precision_recall_fscore_support\n",
    "from scipy.sparse import csr_matrix\n",
    "from sklearn.feature_extraction.text import TfidfVectorizer\n",
    "from sklearn.cluster import MiniBatchKMeans\n",
    "from scipy.sparse import hstack\n",
    "from collections import defaultdict\n",
    "import seaborn as sns\n",
    "import numpy as np\n",
    "import matplotlib.pyplot as plt\n",
    "from sklearn.metrics import confusion_matrix\n",
    "%matplotlib inline\n",
    "import warnings\n",
    "warnings.filterwarnings('ignore')\n",
    "import io\n",
    "from gensim.models.keyedvectors import KeyedVectors\n",
    "from gensim.models import FastText"
   ]
  },
  {
   "cell_type": "code",
   "execution_count": 2,
   "metadata": {},
   "outputs": [
    {
     "name": "stderr",
     "output_type": "stream",
     "text": [
      "Using TensorFlow backend.\n"
     ]
    }
   ],
   "source": [
    "from keras.models import Sequential\n",
    "from keras.preprocessing import sequence\n",
    "from keras.models import Model\n",
    "from keras.layers import Dense, Dropout, Embedding, LSTM, Bidirectional, Concatenate, Add, Input\n",
    "from keras.layers.wrappers import TimeDistributed\n",
    "from keras.preprocessing.sequence import pad_sequences\n",
    "from keras.layers.embeddings import Embedding\n",
    "from keras.backend import tf"
   ]
  },
  {
   "cell_type": "code",
   "execution_count": 3,
   "metadata": {},
   "outputs": [],
   "source": [
    "data = json.load(open('train.json'))"
   ]
  },
  {
   "cell_type": "code",
   "execution_count": 4,
   "metadata": {},
   "outputs": [
    {
     "data": {
      "text/plain": [
       "64"
      ]
     },
     "execution_count": 4,
     "metadata": {},
     "output_type": "execute_result"
    }
   ],
   "source": [
    "relations = tuple(data.keys())\n",
    "len_relations = len(relations)\n",
    "len_relations"
   ]
  },
  {
   "cell_type": "markdown",
   "metadata": {},
   "source": [
    "Берем предобученные эмбеддинги Fasttext с их официального сайта/гитахаба (все все равно ведет сюда: https://fasttext.cc/docs/en/crawl-vectors.html)"
   ]
  },
  {
   "cell_type": "code",
   "execution_count": 5,
   "metadata": {},
   "outputs": [],
   "source": [
    "path = \"cc.en.300.bin\"\n",
    "word_vectors = FastText.load_fasttext_format(path)"
   ]
  },
  {
   "cell_type": "code",
   "execution_count": 6,
   "metadata": {},
   "outputs": [
    {
     "data": {
      "text/plain": [
       "300"
      ]
     },
     "execution_count": 6,
     "metadata": {},
     "output_type": "execute_result"
    }
   ],
   "source": [
    "len(word_vectors.wv['flight'])"
   ]
  },
  {
   "cell_type": "markdown",
   "metadata": {},
   "source": [
    "Идея простая: возьмем эмбеддинги для каждого слова и прибавим к ним след.вектор:\n",
    "\n",
    "[0,1,x,x,x,x,x]+[1,0,x,x,x,x,x]\n",
    "\n",
    "первая часть (до плюса) будет отвечать за h (0,1), второй за t (1,0)\n",
    "\n",
    "дальше у не-сущностей будет последовтаельность 0,0,0,1,0 (bilOu)\n",
    "\n",
    "у начальной позиции 1,0,0,0,0 (Bilou)\n",
    "\n",
    "и т.д.\n",
    "\n",
    "итого у нас для каждого входного слова будет вектор длиной 314 (300 fastext, 14 для кодирования сущностей)"
   ]
  },
  {
   "cell_type": "code",
   "execution_count": 7,
   "metadata": {},
   "outputs": [],
   "source": [
    "def create_bilou_tag(indices, i):\n",
    "    bilou = {\"b\":0, 'i':1, 'l':2, 'o':3, 'u':4}\n",
    "    result = np.zeros(len(bilou))\n",
    "    for l in indices:\n",
    "        if i in l:\n",
    "            if len(l)==1 and l[0]==i:\n",
    "                result[bilou['u']]=1\n",
    "            else:\n",
    "                if l[0]==i:\n",
    "                    result[bilou['b']]=1\n",
    "                elif l[-1]==i:\n",
    "                    result[bilou[\"l\"]]=1\n",
    "                else:\n",
    "                    result[bilou['i']]=1\n",
    "    if (result == np.zeros(len(bilou))).all():\n",
    "        result[bilou['o']]=1\n",
    "    return result"
   ]
  },
  {
   "cell_type": "code",
   "execution_count": 8,
   "metadata": {},
   "outputs": [],
   "source": [
    "def create_ht_vectors(h,t, length):\n",
    "    h_indices = h[2]\n",
    "    t_indices = t[2]\n",
    "    result_vectors = []\n",
    "    \n",
    "    for i in range(length):\n",
    "        h_vector = np.concatenate(([0.0, 1.0],create_bilou_tag(h_indices, i)))\n",
    "        t_vector = np.concatenate(([1.0, 0.0],create_bilou_tag(t_indices, i)))\n",
    "        result_vectors.append(np.concatenate((h_vector, t_vector)))\n",
    "    return np.array(result_vectors)"
   ]
  },
  {
   "cell_type": "code",
   "execution_count": 9,
   "metadata": {},
   "outputs": [],
   "source": [
    "def create_input_sequence(instance):\n",
    "    sentence_array = []\n",
    "    for token in instance['tokens']:\n",
    "        try:\n",
    "            sentence_array.append(word_vectors.wv[token])\n",
    "        except KeyError as e:\n",
    "            sentence_array.append(np.zeros(300))\n",
    "    ht_vectors = create_ht_vectors(instance['h'], instance['t'], len(sentence_array))\n",
    "    return np.concatenate((sentence_array,ht_vectors),axis=1)"
   ]
  },
  {
   "cell_type": "code",
   "execution_count": 41,
   "metadata": {},
   "outputs": [
    {
     "name": "stdout",
     "output_type": "stream",
     "text": [
      "(44800, 36, 314) (44800, 64)\n"
     ]
    }
   ],
   "source": [
    "x,y, instances = [],[], []\n",
    "for i in data:\n",
    "    for instance in data[i]:\n",
    "        x.append(create_input_sequence(instance))\n",
    "        \n",
    "        output = np.zeros(len_relations)\n",
    "        output[relations.index(i)]=1\n",
    "        y.append(output)\n",
    "        \n",
    "        instances.append(instance)\n",
    "x = pad_sequences(np.array(x))\n",
    "y = np.array(y)\n",
    "print(x.shape, y.shape)"
   ]
  },
  {
   "cell_type": "code",
   "execution_count": 14,
   "metadata": {},
   "outputs": [],
   "source": [
    "embedding_size = 128\n",
    "hidden_size = 128\n",
    "out_size = len_relations\n",
    "nb_epoch = 10\n",
    "batch_size = 32\n",
    "maxlen=36"
   ]
  },
  {
   "cell_type": "markdown",
   "metadata": {},
   "source": [
    "#### Модель\n",
    "Я посмотрела на контекст в ноутбуке семинара и ответ на вопрос, какую строить модель, пришел сам собой:\n",
    "\n",
    "Возьмем LSTM и переведем вектора в новое пространство. Получим вектор-состяние LSTM и представим, что это наш прекрасный вектор предложения, который знает и о сущностях тоже и о всем смысле предложения.\n",
    "\n",
    "А дальше сделаем классификатор: пропустим сконкатенированный вектор состояния через fully-connected layer и будем ожидать на выходе один из 64 классов.\n",
    "\n",
    "Звучить красиво, а на деле.."
   ]
  },
  {
   "cell_type": "code",
   "execution_count": 12,
   "metadata": {},
   "outputs": [],
   "source": [
    "def train_model(x, y):\n",
    "    prem_input = Input(shape=(maxlen, 314), dtype='float32')\n",
    "    a,h,c = LSTM(output_dim=hidden_size, return_sequences=False, return_state=True, inner_activation='sigmoid')(prem_input)\n",
    "    state = Concatenate()([h,c])\n",
    "    final_dense = Dense(out_size, activation='softmax')(state)\n",
    "    model = Model(input=[prem_input], output=final_dense)\n",
    "    model.compile(loss='categorical_crossentropy', optimizer='adam', metrics=['accuracy'])\n",
    "    model.fit(x, y, batch_size=batch_size, epochs=nb_epoch, validation_split=0.1)\n",
    "    return model"
   ]
  },
  {
   "cell_type": "code",
   "execution_count": 15,
   "metadata": {},
   "outputs": [
    {
     "name": "stdout",
     "output_type": "stream",
     "text": [
      "Train on 30240 samples, validate on 3360 samples\n",
      "Epoch 1/10\n",
      "30240/30240 [==============================] - 42s 1ms/step - loss: 3.7408 - acc: 0.0851 - val_loss: 8.4884 - val_acc: 0.0241\n",
      "Epoch 2/10\n",
      "30240/30240 [==============================] - 34s 1ms/step - loss: 3.3132 - acc: 0.1653 - val_loss: 9.9046 - val_acc: 0.0476\n",
      "Epoch 3/10\n",
      "30240/30240 [==============================] - 34s 1ms/step - loss: 3.0852 - acc: 0.2047 - val_loss: 11.4592 - val_acc: 0.0500\n",
      "Epoch 4/10\n",
      "30240/30240 [==============================] - 34s 1ms/step - loss: 2.9302 - acc: 0.2374 - val_loss: 12.0692 - val_acc: 0.0500\n",
      "Epoch 5/10\n",
      "30240/30240 [==============================] - 35s 1ms/step - loss: 2.8211 - acc: 0.2562 - val_loss: 13.3998 - val_acc: 0.0426\n",
      "Epoch 6/10\n",
      "30240/30240 [==============================] - 35s 1ms/step - loss: 2.7329 - acc: 0.2787 - val_loss: 13.4331 - val_acc: 0.0542\n",
      "Epoch 7/10\n",
      "30240/30240 [==============================] - 34s 1ms/step - loss: 2.6482 - acc: 0.2966 - val_loss: 13.9971 - val_acc: 0.0530\n",
      "Epoch 8/10\n",
      "30240/30240 [==============================] - 35s 1ms/step - loss: 2.5795 - acc: 0.3077 - val_loss: 14.2433 - val_acc: 0.0494\n",
      "Epoch 9/10\n",
      "30240/30240 [==============================] - 35s 1ms/step - loss: 2.5158 - acc: 0.3236 - val_loss: 14.0165 - val_acc: 0.0506\n",
      "Epoch 10/10\n",
      "30240/30240 [==============================] - 35s 1ms/step - loss: 2.4604 - acc: 0.3384 - val_loss: 14.5117 - val_acc: 0.0473\n",
      "11200/11200 [==============================] - 5s 463us/step\n",
      "Test score: 3.952271516876561\n",
      "Test accuracy: 0.26964285714285713\n",
      "Train on 30240 samples, validate on 3360 samples\n",
      "Epoch 1/10\n",
      "30240/30240 [==============================] - 32s 1ms/step - loss: 3.7326 - acc: 0.0862 - val_loss: 8.4324 - val_acc: 0.0315\n",
      "Epoch 2/10\n",
      "30240/30240 [==============================] - 31s 1ms/step - loss: 3.3180 - acc: 0.1601 - val_loss: 10.3128 - val_acc: 0.0357\n",
      "Epoch 3/10\n",
      "30240/30240 [==============================] - 31s 1ms/step - loss: 3.0929 - acc: 0.2001 - val_loss: 11.5765 - val_acc: 0.0429\n",
      "Epoch 4/10\n",
      "30240/30240 [==============================] - 31s 1ms/step - loss: 2.9344 - acc: 0.2351 - val_loss: 12.3862 - val_acc: 0.0393\n",
      "Epoch 5/10\n",
      "30240/30240 [==============================] - 31s 1ms/step - loss: 2.8241 - acc: 0.2583 - val_loss: 13.5580 - val_acc: 0.0467\n",
      "Epoch 6/10\n",
      "30240/30240 [==============================] - 31s 1ms/step - loss: 2.7303 - acc: 0.2784 - val_loss: 13.8578 - val_acc: 0.0440\n",
      "Epoch 7/10\n",
      "30240/30240 [==============================] - 31s 1ms/step - loss: 2.6467 - acc: 0.2965 - val_loss: 14.0284 - val_acc: 0.0455\n",
      "Epoch 8/10\n",
      "30240/30240 [==============================] - 31s 1ms/step - loss: 2.5806 - acc: 0.3103 - val_loss: 14.0872 - val_acc: 0.0476\n",
      "Epoch 9/10\n",
      "30240/30240 [==============================] - 31s 1ms/step - loss: 2.5209 - acc: 0.3239 - val_loss: 14.6557 - val_acc: 0.0452\n",
      "Epoch 10/10\n",
      "30240/30240 [==============================] - 32s 1ms/step - loss: 2.4671 - acc: 0.3350 - val_loss: 14.7792 - val_acc: 0.0435\n",
      "11200/11200 [==============================] - 5s 483us/step\n",
      "Test score: 3.894566549743925\n",
      "Test accuracy: 0.2694642857142857\n",
      "Train on 30240 samples, validate on 3360 samples\n",
      "Epoch 1/10\n",
      "30240/30240 [==============================] - 33s 1ms/step - loss: 3.7218 - acc: 0.0899 - val_loss: 8.4902 - val_acc: 0.0238\n",
      "Epoch 2/10\n",
      "30240/30240 [==============================] - 33s 1ms/step - loss: 3.2922 - acc: 0.1671 - val_loss: 10.6276 - val_acc: 0.0256\n",
      "Epoch 3/10\n",
      "30240/30240 [==============================] - 32s 1ms/step - loss: 3.0746 - acc: 0.2060 - val_loss: 11.7755 - val_acc: 0.0363\n",
      "Epoch 4/10\n",
      "30240/30240 [==============================] - 32s 1ms/step - loss: 2.9224 - acc: 0.2378 - val_loss: 12.5660 - val_acc: 0.0387\n",
      "Epoch 5/10\n",
      "30240/30240 [==============================] - 34s 1ms/step - loss: 2.8134 - acc: 0.2611 - val_loss: 13.3528 - val_acc: 0.0390\n",
      "Epoch 6/10\n",
      "30240/30240 [==============================] - 32s 1ms/step - loss: 2.7241 - acc: 0.2800 - val_loss: 13.9152 - val_acc: 0.0342\n",
      "Epoch 7/10\n",
      "30240/30240 [==============================] - 33s 1ms/step - loss: 2.6425 - acc: 0.2973 - val_loss: 14.0620 - val_acc: 0.0384\n",
      "Epoch 8/10\n",
      "30240/30240 [==============================] - 33s 1ms/step - loss: 2.5784 - acc: 0.3126 - val_loss: 14.5993 - val_acc: 0.0369\n",
      "Epoch 9/10\n",
      "30240/30240 [==============================] - 33s 1ms/step - loss: 2.5178 - acc: 0.3239 - val_loss: 14.5801 - val_acc: 0.0399\n",
      "Epoch 10/10\n",
      "30240/30240 [==============================] - 33s 1ms/step - loss: 2.4639 - acc: 0.3365 - val_loss: 14.9416 - val_acc: 0.0390\n",
      "11200/11200 [==============================] - 6s 494us/step\n",
      "Test score: 3.8660897864614214\n",
      "Test accuracy: 0.27714285714285714\n",
      "Train on 30240 samples, validate on 3360 samples\n",
      "Epoch 1/10\n",
      "30240/30240 [==============================] - 34s 1ms/step - loss: 3.7168 - acc: 0.0901 - val_loss: 9.1156 - val_acc: 0.0232\n",
      "Epoch 2/10\n",
      "30240/30240 [==============================] - 33s 1ms/step - loss: 3.3017 - acc: 0.1671 - val_loss: 10.1044 - val_acc: 0.0226\n",
      "Epoch 3/10\n",
      "30240/30240 [==============================] - 34s 1ms/step - loss: 3.0848 - acc: 0.2074 - val_loss: 11.7049 - val_acc: 0.0375\n",
      "Epoch 4/10\n",
      "30240/30240 [==============================] - 32s 1ms/step - loss: 2.9385 - acc: 0.2357 - val_loss: 12.2567 - val_acc: 0.0375\n",
      "Epoch 5/10\n",
      "30240/30240 [==============================] - 33s 1ms/step - loss: 2.8336 - acc: 0.2549 - val_loss: 13.0910 - val_acc: 0.0387\n",
      "Epoch 6/10\n",
      "30240/30240 [==============================] - 33s 1ms/step - loss: 2.7423 - acc: 0.2765 - val_loss: 13.2029 - val_acc: 0.0402\n",
      "Epoch 7/10\n",
      "30240/30240 [==============================] - 34s 1ms/step - loss: 2.6684 - acc: 0.2941 - val_loss: 13.7397 - val_acc: 0.0375\n",
      "Epoch 8/10\n",
      "30240/30240 [==============================] - 29s 944us/step - loss: 2.5960 - acc: 0.3068 - val_loss: 14.0930 - val_acc: 0.0381\n",
      "Epoch 9/10\n",
      "30240/30240 [==============================] - 25s 839us/step - loss: 2.5338 - acc: 0.3223 - val_loss: 14.5527 - val_acc: 0.0408\n",
      "Epoch 10/10\n",
      "30240/30240 [==============================] - 23s 754us/step - loss: 2.4782 - acc: 0.3346 - val_loss: 14.7945 - val_acc: 0.0393\n",
      "11200/11200 [==============================] - 4s 341us/step\n",
      "Test score: 3.9161245696885247\n",
      "Test accuracy: 0.2694642857142857\n"
     ]
    }
   ],
   "source": [
    "N = 4\n",
    "metrics_macro = np.zeros((3))\n",
    "metrics_micro = np.zeros((3))\n",
    "\n",
    "skf = KFold(n_splits=N, shuffle=True)\n",
    "for train_index, test_index in skf.split(x, y):\n",
    "    model_ = train_model(x[train_index],y[train_index])\n",
    "    preds = model_.predict(x[test_index])\n",
    "    y_classes = preds.argmax(axis=-1)\n",
    "    score = model_.evaluate(x[test_index], y[test_index])\n",
    "    print('Test score:', score[0])\n",
    "    print('Test accuracy:', score[1])\n",
    "    pred_result = []\n",
    "    for i in y_classes:\n",
    "        pred_result.append(relations[i])\n",
    "    y_list = []\n",
    "    for i in y[test_index]:\n",
    "        index = list(i).index(1)\n",
    "        y_list.append(relations[index])\n",
    "    \n",
    "    metrics_macro += precision_recall_fscore_support(y_list, pred_result, average='macro')[:3]\n",
    "    metrics_micro += precision_recall_fscore_support(y_list, pred_result, average='micro')[:3]"
   ]
  },
  {
   "cell_type": "markdown",
   "metadata": {},
   "source": [
    "На деле как-то печальненько...может, конечно, мы недообучились..."
   ]
  },
  {
   "cell_type": "code",
   "execution_count": 17,
   "metadata": {},
   "outputs": [
    {
     "data": {
      "text/plain": [
       "(array([0.24967225, 0.27162449, 0.24855736]),\n",
       " array([0.27142857, 0.27142857, 0.27142857]))"
      ]
     },
     "execution_count": 17,
     "metadata": {},
     "output_type": "execute_result"
    }
   ],
   "source": [
    "metrics_macro/N, metrics_micro/N"
   ]
  },
  {
   "cell_type": "code",
   "execution_count": 25,
   "metadata": {},
   "outputs": [],
   "source": [
    "mixed=[]\n",
    "for i,y in zip(y_list, pred_result):\n",
    "    if i!=y:\n",
    "        mixed.append((i,y))\n",
    "mixed = Counter(mixed)"
   ]
  },
  {
   "cell_type": "code",
   "execution_count": 30,
   "metadata": {},
   "outputs": [
    {
     "data": {
      "text/plain": [
       "[(('P551', 'P937'), 39),\n",
       " (('P276', 'P931'), 37),\n",
       " (('P131', 'P17'), 31),\n",
       " (('P1303', 'P106'), 30),\n",
       " (('P106', 'P39'), 29),\n",
       " (('P800', 'P156'), 29),\n",
       " (('P140', 'P1303'), 26),\n",
       " (('P57', 'P1877'), 26),\n",
       " (('P159', 'P931'), 26),\n",
       " (('P27', 'P937'), 25)]"
      ]
     },
     "execution_count": 30,
     "metadata": {},
     "output_type": "execute_result"
    }
   ],
   "source": [
    "mixed.most_common(10)"
   ]
  },
  {
   "cell_type": "markdown",
   "metadata": {},
   "source": [
    "#### Посмотрим на самые частотные ошибки:\n",
    "\n",
    "'P551', 'P937' \n",
    "\n",
    "residence -> work_location\n",
    "\n",
    "'P276', 'P931' \n",
    "\n",
    "location -> place served by transport hub\n",
    "\n",
    "'P131', 'P17'  \n",
    "\n",
    "located in the administrative territorial entity -> country\n",
    "\n",
    "'P1303', 'P106' \n",
    "\n",
    "instrument -> occupation \n",
    "\n",
    "'P106', 'P39'\n",
    "\n",
    "occupation ->  position held \n",
    "\n",
    "'P800', 'P156' \n",
    "\n",
    "notable work  ->  followed by \n",
    "\n",
    "'P140', 'P1303'\n",
    "\n",
    "religion -> instrument\n",
    "\n",
    "'P57', 'P1877' \n",
    "\n",
    "director ->  after a work by \n",
    "\n",
    "'P159', 'P931' \n",
    "\n",
    "headquarters location  ->  place served by transport hub\n",
    "\n",
    "'P27', 'P937'  \n",
    "\n",
    "country of citizenship  -> work_location"
   ]
  },
  {
   "cell_type": "markdown",
   "metadata": {},
   "source": [
    "Мы видим, что основные ошибки совершаются для типов \"location\", \"occupation\"\n",
    "\n",
    "Если путаницы внутри подклассов \"location\" и \"occupation\" более-менее очевидны\n",
    "\n",
    "Посмотрим на religion -> instrument"
   ]
  },
  {
   "cell_type": "code",
   "execution_count": 44,
   "metadata": {},
   "outputs": [
    {
     "name": "stdout",
     "output_type": "stream",
     "text": [
      "{'tokens': ['Charles', 'Alexander', ',', 'who', 'became', 'duke', 'in', '1733', ',', 'had', 'become', 'a', 'Roman', 'Catholic', 'while', 'an', 'officer', 'in', 'the', 'Austrian', 'service', '.'], 'h': ['charles alexander', 'Q61946', [[0, 1]]], 't': ['catholic', 'Q1841', [[13]]]}\n",
      "{'tokens': ['The', 'Anglican', 'Bishop', 'of', 'New', 'Guinea', '(', 'then', 'a', 'diocese', 'of', 'the', 'ecclesiastical', 'Province', 'of', 'Queensland', ')', ',', 'Philip', 'Strong', ',', 'instructed', 'Anglican', 'missionaries', 'to', 'remain', 'at', 'their', 'posts', '.'], 'h': ['philip strong', 'Q7184440', [[18, 19]]], 't': ['anglican', 'Q6423963', [[1], [22]]]}\n",
      "{'tokens': ['The', 'origins', 'of', 'Evangelicalism', 'are', 'usually', 'traced', 'back', 'to', 'the', 'English', 'Methodist', 'movement', ',', 'Nicolaus', 'Zinzendorf', ',', 'the', 'Moravian', 'Church', ',', 'Lutheran', 'pietism', ',', 'Presbyterianism', 'and', 'Puritanism', '.'], 'h': ['nicolaus zinzendorf', 'Q76336', [[14, 15]]], 't': ['lutheran', 'Q75809', [[21]]]}\n",
      "{'tokens': ['Two', 'CR', 'brethren', 'eventually', 'reached', 'archiepiscopal', 'status', ':', 'Thomas', 'Hannay', 'in', 'Scotland', 'and', 'Trevor', 'Huddleston', ',', 'Archbishop', 'of', 'the', 'Anglican', 'Church', 'of', 'the', 'Province', 'of', 'the', 'Indian', 'Ocean', 'from', '1978', 'to', '1983', '.'], 'h': ['thomas hannay', 'Q7790393', [[8, 9]]], 't': ['anglican', 'Q6423963', [[19]]]}\n",
      "{'tokens': ['In', 'Hungary', ',', 'for', 'example', ',', '5,000', 'Jewish', 'youngsters', '(', 'including', 'Edward', 'Teller', ')', 'left', 'the', 'country', 'after', 'the', 'introduction', 'of', '\"', 'numerus', 'clausus', '\"', '.'], 'h': ['edward teller', 'Q6733', [[11, 12]]], 't': ['jewish', 'Q9268', [[7]]]}\n",
      "{'tokens': ['then', 'Montreal', \"'s\", 'principal', 'Jewish', 'area', 'until', 'the', '1950s', '(', 'later', 'made', 'famous', 'by', 'Mordecai', 'Richler', 'and', 'others', ')', 'and', 'later', 'home', 'to', 'Greek', 'and', 'Portuguese', 'communities', ',', 'among', 'others', '.'], 'h': ['mordecai richler', 'Q452282', [[14, 15]]], 't': ['jewish', 'Q9268', [[4]]]}\n",
      "{'tokens': ['Ihor', 'Kolomoyskyi', ',', 'president', 'of', 'the', 'United', 'Jewish', 'Community', 'of', 'Ukraine', ',', 'stated', 'in', '2010', 'that', 'the', 'party', 'has', 'clearly', 'shifted', 'from', 'the', 'far', '-', 'right', 'to', 'the', 'center', '.'], 'h': ['ihor kolomoyskyi', 'Q1626421', [[0, 1]]], 't': ['jewish', 'Q9268', [[7]]]}\n",
      "{'tokens': ['Mark', 'Gerard', 'Miles', 'is', 'a', 'Gibraltarian', 'Catholic', 'priest', 'who', 'serves', 'as', 'the', 'English', 'interpreter', 'for', 'Pope', 'Francis', '.'], 'h': ['pope francis', 'Q450675', [[15, 16]]], 't': ['catholic', 'Q9592', [[6]]]}\n",
      "{'tokens': ['The', 'town', 'was', 'fortified', 'between', '1630', 'and', '1640', 'by', 'Cardinal', 'Richelieu', 'as', 'a', 'Catholic', 'bastion', 'in', 'order', 'to', 'fight', 'against', 'the', 'neighbouring', 'Protestant', 'town', 'of', 'La', 'Rochelle', '.'], 'h': ['cardinal richelieu', 'Q26702', [[9, 10]]], 't': ['catholic', 'Q1841', [[13]]]}\n",
      "{'tokens': ['All', 'Saints', 'in', 'Monkwearmouth', 'became', 'a', 'centre', 'for', 'British', 'Pentecostalism', ',', 'and', 'Mary', 'Boddy', 'laid', 'hands', 'on', 'the', 'evangelist', 'Smith', 'Wigglesworth', '.'], 'h': ['smith wigglesworth', 'Q2585321', [[19, 20]]], 't': ['pentecostalism', 'Q483978', [[9]]]}\n",
      "{'tokens': ['John', 'McLoughlin', ',', 'factor', 'of', 'Fort', 'Vancouver', ',', 'and', 'a', 'Catholic', ',', 'asked', 'HBC', 'for', 'a', 'full', '-', 'time', 'minister', '.'], 'h': ['john mcloughlin', 'Q11465249', [[0, 1]]], 't': ['catholic', 'Q1841', [[10]]]}\n",
      "{'tokens': ['Influential', 'rabbi', 'Yosef', 'Shalom', 'Eliashiv', ',', 'Israeli', 'settler', 'activist', 'Moshe', 'Feiglin', 'and', 'Dov', 'Lior', ',', 'rabbi', 'of', 'Kiryat', 'Arba', ',', 'opposed', 'the', 'rally', 'as', 'a', 'harbinger', 'of', 'Christian', 'missionary', 'zeal', 'within', 'the', 'Jewish', 'homeland', '.'], 'h': ['moshe feiglin', 'Q1367272', [[9, 10]]], 't': ['jewish', 'Q9268', [[32]]]}\n",
      "{'tokens': ['The', 'book', \"'s\", 'subject', 'matter', 'cost', 'Jones', 'her', 'job', 'at', 'Cumberland', 'College', ',', 'a', 'conservative', 'Baptist', 'institution', '.'], 'h': ['cumberland college', 'Q7896695', [[10, 11]]], 't': ['baptist', 'Q93191', [[15]]]}\n",
      "{'tokens': ['My', 'grandmother', ',', 'Rose', 'Kennedy', ',', 'was', 'a', 'devout', 'Catholic', ',', 'but', 'she', 'was', 'also', 'a', 'very', 'spiritual', 'person', '.'], 'h': ['rose kennedy', 'Q236540', [[3, 4]]], 't': ['catholic', 'Q1841', [[9]]]}\n",
      "{'tokens': ['Gregory', 'Baum', ',', 'a', 'German', '-', 'born', 'Catholic', 'theologian', 'and', 'Professor', 'Emeritus', 'in', 'Religious', 'Studies', 'at', 'McGill', 'University', 'in', 'Montreal', ',', 'expresses', 'the', 'effect', 'of', 'this', 'concept', 'on', 'Christian', 'views', 'toward', 'conversion', '.'], 'h': ['gregory baum', 'Q214447', [[0, 1]]], 't': ['catholic', 'Q1841', [[7]]]}\n",
      "{'tokens': ['He', 'was', 'expelled', 'after', 'being', 'accused', 'of', 'being', 'a', 'spy', ',', 'other', 'Iraqi', 'scholars', 'including', 'the', 'Chaldean', 'Patriarch', 'Louis', 'Sako', 'claim', 'the', 'real', 'reason', 'lay', 'behind', 'his', 'refusal', 'to', 'accommodate', 'government', 'view', 'in', 'his', 'writings', '.'], 'h': ['louis sako', 'Q3986360', [[18, 19]]], 't': ['chaldean', 'Q64868', [[16]]]}\n",
      "{'tokens': ['Between', 'January', '1912', 'and', 'January', '1913', 'he', 'enjoyed', 'a', 'short', 'but', 'intense', 'friendship', 'with', 'the', 'mystical', 'Catholic', 'writer', 'Jakub', 'Deml', '.'], 'h': ['jakub deml', 'Q633540', [[18, 19]]], 't': ['catholic', 'Q1841', [[16]]]}\n",
      "{'tokens': ['From', 'Louisville', ',', 'they', 'traveled', 'south', 'to', 'the', 'area', 'of', 'Bardstown', 'to', 'meet', 'with', 'Stephen', 'Badin', ',', 'the', 'first', 'Catholic', 'priest', 'ordained', 'in', 'the', 'United', 'States', '.'], 'h': ['stephen badin', 'Q3592052', [[14, 15]]], 't': ['catholic', 'Q1841', [[19]]]}\n",
      "{'tokens': ['While', 'King', 'João', 'I', 'later', 'reverted', 'to', 'his', 'traditional', 'beliefs', ',', 'Afonso', 'I', 'established', 'Christianity', 'as', 'the', 'state', 'religion', 'of', 'his', 'kingdom', '.'], 'h': ['afonso i', 'Q587697', [[11, 12]]], 't': ['christianity', 'Q5043', [[14]]]}\n",
      "{'tokens': ['Cyriakus', 'Schneegass', '(;', ',', '5', 'October', '1546', '–', '23', 'October', '1597', ')', 'was', 'a', 'German', 'Lutheran', 'pastor', ',', 'hymn', 'writer', ',', 'composer', 'and', 'music', 'theorist', '.'], 'h': ['cyriakus schneegass', 'Q103171', [[0, 1]]], 't': ['lutheran', 'Q75809', [[15]]]}\n",
      "{'tokens': ['Evelyn', 'Waugh', \"'s\", '\"', 'Brideshead', 'Revisited', '\"', 'involves', 'guilt', 'in', 'the', 'Catholic', 'religion', '.'], 'h': ['evelyn waugh', 'Q107002', [[0, 1]]], 't': ['catholic', 'Q1841', [[11]]]}\n",
      "{'tokens': ['In', 'the', 'middle', 'of', 'the', '19th', '\\xa0', 'century', 'the', 'resident', 'was', 'Josiah', 'Hudson', ',', 'father', 'of', 'Charles', 'Hudson', 'who', 'was', 'an', 'Anglican', 'priest', 'and', 'an', 'early', 'mountaineer', '.'], 'h': ['charles hudson', 'Q713164', [[16, 17]]], 't': ['anglican', 'Q6423963', [[21]]]}\n",
      "{'tokens': ['In', '2003', ',', 'Archbishop', 'Robin', 'Eames', ',', 'the', 'Anglican', 'Primate', 'of', 'All', 'Ireland', ',', 'was', 'appointed', 'by', 'the', 'Archbishop', 'of', 'Canterbury', 'as', 'Chairman', 'of', 'the', 'Lambeth', 'Commission', 'on', 'Communion', '.'], 'h': ['robin eames', 'Q336825', [[4, 5]]], 't': ['anglican', 'Q6423963', [[8]]]}\n",
      "{'tokens': ['Moritz', 'Steinschneider', 'referred', 'to', 'the', '\"', 'Hochschule', '\"', 'as', 'a', '\"', 'new', 'ghetto', 'of', 'Jewish', 'learning', ',', '\"', 'which', 'he', 'felt', 'could', 'ultimately', 'not', 'produce', 'the', 'standards', 'of', 'scholarship', 'achieved', 'in', 'the', 'university', 'setting', '.'], 'h': ['moritz steinschneider', 'Q78906', [[0, 1]]], 't': ['jewish', 'Q9268', [[14]]]}\n",
      "{'tokens': ['The', 'shelter', 'is', 'named', 'after', 'American', 'Catholic', 'and', 'social', 'activist', 'Dorothy', 'Day', '.'], 'h': ['dorothy day', 'Q150281', [[10, 11]]], 't': ['catholic', 'Q9592', [[6]]]}\n",
      "{'tokens': ['Modern', 'historians', ',', 'however', ',', 'argue', 'that', 'Christianity', 'in', 'Malta', 'was', 'reintroduced', 'by', 'King', 'Roger', 'in', '1127', ',', 'and', 'consolidated', 'itself', 'thereafter', '.'], 'h': ['king roger', 'Q193901', [[13, 14]]], 't': ['christianity', 'Q5043', [[7]]]}\n"
     ]
    }
   ],
   "source": [
    "for i,m, z in zip(y_list, pred_result, test_index):\n",
    "    if i=='P140' and m=='P1303':\n",
    "        print(instances[z])\n"
   ]
  },
  {
   "cell_type": "code",
   "execution_count": 45,
   "metadata": {},
   "outputs": [
    {
     "name": "stdout",
     "output_type": "stream",
     "text": [
      "{'tokens': ['Robert', 'Drasnin', '(', 'November', '17', ',', '1927', '–', 'May', '13', ',', '2015', ')', 'was', 'an', 'American', 'composer', 'and', 'clarinet', 'player', '.'], 'h': ['robert drasnin', 'Q3435510', [[0, 1]]], 't': ['clarinet', 'Q8343', [[18]]]}\n",
      "{'tokens': ['The', 'band', 'carried', 'on', 'as', 'a', 'trio', 'with', 'Jon', 'Hiseman', 'on', 'drums', ',', 'but', 'Bond', \"'s\", 'mental', 'and', 'physical', 'health', 'continued', 'to', 'deteriorate', ',', 'until', 'the', 'band', 'eventually', 'dissolved', 'in', '1967', '.'], 'h': ['jon hiseman', 'Q743051', [[8, 9]]], 't': ['drums', 'Q128309', [[11]]]}\n",
      "{'tokens': ['Kaderabek', 'remains', 'on', 'the', 'faculty', 'at', 'West', 'Chester', 'University', ',', 'Faculty', 'Profiles', ',', 'Applied', 'Music', ':', 'Frank', 'Kaderabek', 'Instructor', '—', 'Trumpet', '.'], 'h': ['frank kaderabek', 'Q5487621', [[16, 17]]], 't': ['trumpet', 'Q8338', [[20]]]}\n",
      "{'tokens': ['The', 'trio', 'features', 'Walter', 'Verdehr', 'on', 'violin', ',', 'Elsa', 'Ludewig', '-', 'Verdehr', 'on', 'clarinet', ',', 'and', 'Silvia', 'Roederer', 'on', 'piano', '.'], 'h': ['elsa ludewig-verdehr', 'Q5367419', [[8, 9, 10, 11]]], 't': ['clarinet', 'Q8343', [[13]]]}\n",
      "{'tokens': ['By', '1958', ',', 'the', 'group', 'consisted', 'of', 'John', 'Coltrane', 'on', 'tenor', 'saxophone', ',', 'Red', 'Garland', 'on', 'piano', ',', 'Paul', 'Chambers', 'on', 'bass', ',', 'and', 'Philly', 'Joe', 'Jones', 'on', 'drums', ',', 'Richard', 'Cook', '.'], 'h': ['philly joe jones', 'Q709873', [[24, 25, 26]]], 't': ['drums', 'Q128309', [[28]]]}\n",
      "{'tokens': ['Djeli', 'Moussa', 'Diawara', ',', 'born', '1962', 'in', 'Kankan', ',', 'Guinea', 'is', 'a', 'Kora', 'player', '(', 'Korafola', ')', ',', 'a', 'composer', 'and', 'singer', '.'], 'h': ['djeli moussa diawara', 'Q290512', [[0, 1, 2]]], 't': ['kora', 'Q585969', [[12]]]}\n",
      "{'tokens': ['He', 'has', 'cited', 'Paul', 'McCartney', ',', 'Geezer', 'Butler', ',', 'John', 'Entwistle', ',', 'and', 'Gene', 'Simmons', 'as', 'the', 'fundamental', 'influences', 'of', 'his', 'bass', 'playing', '.'], 'h': ['paul mccartney', 'Q2599', [[3, 4]]], 't': ['bass', 'Q46185', [[21]]]}\n",
      "{'tokens': ['Bryan', 'Bowers', '(', 'born', 'August', '18', ',', '1940', 'in', 'Yorktown', ',', 'Virginia', ')', 'is', 'an', 'American', 'autoharp', 'player', 'who', 'is', 'frequently', 'credited', 'with', 'introducing', 'the', 'instrument', 'to', 'new', 'generations', 'of', 'musicians', '.'], 'h': ['bryan bowers', 'Q4979986', [[0, 1]]], 't': ['autoharp', 'Q370915', [[16]]]}\n",
      "{'tokens': ['Years', 'are', 'those', 'of', 'recording', '.', 'Sources', 'for', 'this', 'list', 'are', 'the', 'notes', 'to', 'each', 'recording', '\\n\\n\\n\\n\\n\\n', 'Trevor', 'Pinnock', 'generally', 'directs', 'while', 'playing', 'harpsichord', 'continuo', '.'], 'h': ['trevor pinnock', 'Q434774', [[17, 18]]], 't': ['harpsichord', 'Q81982', [[23]]]}\n",
      "{'tokens': ['He', 'studied', 'piano', 'with', 'Bernard', 'Roberts', ',', 'organ', 'with', 'David', 'Lang', ',', 'and', 'harpsichord', 'with', 'George', 'Malcolm', '.'], 'h': ['george malcolm', 'Q5542078', [[15, 16]]], 't': ['harpsichord', 'Q81982', [[13]]]}\n",
      "{'tokens': ['Weider', 'later', 'joined', 'Stud', ',', 'a', 'group', 'that', 'featured', 'guitarist', '-', 'bassist', 'Jim', 'Cregan', ',', 'who', 'would', 'become', 'Family', \"'s\", 'final', 'bass', 'player', 'in', '1972', '.'], 'h': ['jim cregan', 'Q3178768', [[12, 13]]], 't': ['bass', 'Q46185', [[21]]]}\n",
      "{'tokens': ['Simon', 'Sechter', '(', '11', 'October', '1788', '–', '10', 'September', '1867', ')', 'was', 'an', 'Austrian', 'music', 'theorist', ',', 'teacher', ',', 'organist', ',', 'conductor', 'and', 'composer', '.'], 'h': ['simon sechter', 'Q582713', [[0, 1]]], 't': ['organist', 'Q1444', [[19]]]}\n",
      "{'tokens': ['Haden', ',', 'Carla', 'Bley', 'and', 'Ray', 'Anderson', 'also', 'placed', 'first', 'in', 'that', 'year', \"'s\", '\"', 'Acoustic', 'Bass', '\"', ',', '\"', 'Composer', '\"', 'and', '\"', 'Trombone', '\"', 'poll', 'categories', ',', 'respectively', '.'], 'h': ['ray anderson', 'Q1360917', [[5, 6]]], 't': ['trombone', 'Q8350', [[24]]]}\n",
      "{'tokens': ['The', 'drums', 'featured', 'on', 'the', 'track', 'was', 'performed', 'by', 'Dean', 'Butterworth', 'while', 'Monique', 'Powell', 'and', 'The', 'Fruit', 'performed', 'backing', 'vocals', '.'], 'h': ['dean butterworth', 'Q1200169', [[9, 10]]], 't': ['drums', 'Q128309', [[1]]]}\n",
      "{'tokens': ['Johann', 'Andreas', 'Amon', '(', '1763', '–', 'March', '29', ',', '1825', ')', 'was', 'a', 'German', 'virtuoso', 'guitarist', ',', 'horn', 'player', ',', 'violist', ',', 'conductor', 'and', 'composer', '.'], 'h': ['johann andreas amon', 'Q528064', [[0, 1, 2]]], 't': ['horn player', 'Q163759', [[17, 18]]]}\n",
      "{'tokens': ['Emil', 'Richards', '(', 'born', 'Emilio', 'Joseph', 'Radocchia', ';', 'September', '2', ',', '1932', ')', 'is', 'an', 'American', 'vibraphonist', 'and', 'percussionist', '.'], 'h': ['emil richards', 'Q507558', [[0, 1]]], 't': ['vibraphonist', 'Q206987', [[16]]]}\n",
      "{'tokens': ['Felix', 'Adrian', 'Norman', 'Salmond', '(', '19', 'November', '188820', 'February', '1952', ')', 'was', 'an', 'English', 'cellist', 'and', 'cello', 'teacher', 'who', 'achieved', 'success', 'in', 'the', 'UK', 'and', 'the', 'US', '.'], 'h': ['felix adrian norman salmond', 'Q5442324', [[0, 1, 2, 3]]], 't': ['cellist', 'Q8371', [[14]]]}\n",
      "{'tokens': ['Al', 'Grey', \"'s\", 'early', 'trombone', 'style', 'was', 'inspired', 'by', 'Trummy', 'Young', '.'], 'h': ['trummy young', 'Q1375025', [[9, 10]]], 't': ['trombone', 'Q8350', [[4]]]}\n",
      "{'tokens': ['He', 'was', 'nicknamed', 'Cachaíto', '(', '\"', 'little', 'Cachao', '\"', ')', 'after', 'his', 'uncle', ',', 'the', 'famous', 'bassist', 'and', 'innovator', 'of', 'mambo', 'music', 'Israel', '\"', 'Cachao', '\"', 'López', '.'], 'h': ['cachao', 'Q562148', [[7], [24]]], 't': ['bassist', 'Q80019', [[16]]]}\n",
      "{'tokens': ['Later', 'D.C.', 'jazz', 'musicians', 'included', 'Charlie', 'Rouse', '(', 'saxophonist', ',', 'with', 'Thelonious', 'Monk', ')', ',', 'Billy', 'Hart', '(', 'drummer', ')', ',', 'Ira', 'Sullivan', '(', 'tenor', 'saxophonist', ')', 'and', 'Leo', 'Parker', '(', 'bop', 'baritone', 'saxophonist', ')', '.'], 'h': ['charlie rouse', 'Q1066994', [[5, 6]]], 't': ['saxophonist', 'Q9798', [[8], [25], [33]]]}\n",
      "{'tokens': ['It', 'featured', 'Carlton', 'Barrett', 'and', 'Sly', 'Dunbar', 'on', 'drums', ',', 'Robbie', 'Shakespeare', 'and', 'Aston', 'Barrett', 'on', 'bass', 'guitar', ',', 'and', 'Ansel', 'Collins', 'on', 'keyboards', ',', 'among', 'other', 'personnel', '.'], 'h': ['carlton barrett', 'Q1043430', [[2, 3]]], 't': ['drums', 'Q128309', [[8]]]}\n",
      "{'tokens': ['It', 'also', 'featured', 'future', 'video', 'game', 'music', 'composer', ',', 'Grant', 'Kirkhope', 'on', 'trumpet', '.'], 'h': ['grant kirkhope', 'Q1818767', [[9, 10]]], 't': ['trumpet', 'Q8338', [[12]]]}\n",
      "{'tokens': ['This', 'project', 'features', 'Rudy', 'Sarzo', 'on', 'bass', ',', 'Scott', 'Travis', 'on', 'drums', '(', 'Later', 'Jon', 'Dette', 'on', 'Drums', ')', ',', 'and', 'Chris', 'Impelliterri', 'on', 'guitar', '.'], 'h': ['scott travis', 'Q374782', [[8, 9]]], 't': ['drums', 'Q128309', [[11], [17]]]}\n",
      "{'tokens': ['Didier', 'Malherbe', 'began', 'playing', 'saxophone', 'at', 'age', '13', 'after', 'hearing', 'Charlie', 'Parker', \"'s\", '\"', 'Bloomdido', '\"', ',', 'a', 'title', 'he', 'later', 'would', 'adopt', 'as', 'his', 'nickname', '.'], 'h': ['didier malherbe', 'Q429029', [[0, 1]]], 't': ['saxophone', 'Q9798', [[4]]]}\n",
      "{'tokens': ['During', 'the', 'mid-19th', 'century', ',', 'composers', 'such', 'as', 'Franz', 'Liszt', 'and', 'Julius', 'Reubke', 'wrote', 'works', 'for', 'the', 'organ', 'of', 'immense', 'scale', '.'], 'h': ['julius reubke', 'Q434161', [[11, 12]]], 't': ['organ', 'Q1444', [[17]]]}\n",
      "{'tokens': ['In', 'particular', ',', 'he', 'identifies', 'drummer', 'Elvin', 'Jones', 'as', 'sounding', 'restricted', 'by', 'the', 'album', \"'s\", 'slow', 'tempos', '.'], 'h': ['elvin jones', 'Q357179', [[6, 7]]], 't': ['drummer', 'Q128309', [[5]]]}\n",
      "{'tokens': ['In', '1991', 'he', 'joined', 'Jimi', 'Tenor', ',', 'another', 'saxophone', 'experimentalist', 'and', 'produced', 'an', 'album', 'called', 'Suburban', 'Sax', '.'], 'h': ['jimi tenor', 'Q1389182', [[4, 5]]], 't': ['saxophone', 'Q9798', [[8]]]}\n",
      "{'tokens': ['Jessie', 'Baker', '(', 'born', 'February', '7', ',', '1991', ')', 'is', 'an', 'American', 'musician', 'known', 'for', 'playing', 'bluegrass', 'banjo', '.'], 'h': ['jessie baker', 'Q6187606', [[0, 1]]], 't': ['banjo', 'Q258896', [[17]]]}\n",
      "{'tokens': ['The', 'historic', 'Walcker', 'organ', 'has', 'been', 'used', 'for', 'recordings', 'of', 'music', 'of', 'the', 'period', ',', 'such', 'as', 'Martin', 'Schmeding', \"'s\", 'recording', 'of', 'the', 'organ', 'works', 'by', 'Max', 'Reger', '.'], 'h': ['max reger', 'Q57139', [[26, 27]]], 't': ['organ', 'Q1444', [[3], [23]]]}\n",
      "{'tokens': ['In', 'Minor', 'Threat', ',', 'he', 'originally', 'played', 'bass', 'guitar', 'before', 'switching', 'to', 'guitar', 'in', '1982', 'when', 'Steve', 'Hansgen', 'joined', 'the', 'band', ',', 'and', 'then', 'moved', 'back', 'to', 'bass', 'after', 'Hansgen', \"'s\", 'departure', '.'], 'h': ['steve hansgen', 'Q3973342', [[16, 17]]], 't': ['bass guitar', 'Q46185', [[7, 8]]]}\n",
      "{'tokens': ['Chris', 'Vrenna', 'and', 'James', 'Woolley', 'performed', 'drums', 'and', 'keyboards', 'respectively', ',', 'Robin', 'Finck', 'replaced', 'Richard', 'Patrick', 'on', 'guitar', 'and', 'bassist', 'Danny', 'Lohner', 'was', 'added', 'to', 'the', 'line', '-', 'up', '.'], 'h': ['chris vrenna', 'Q537899', [[0, 1]]], 't': ['drums', 'Q128309', [[6]]]}\n",
      "{'tokens': ['Richard', 'Dunbar', 'was', 'a', 'player', 'of', 'the', 'French', 'horn', ',', 'playing', 'in', 'the', 'free', 'jazz', 'scene', '.'], 'h': ['richard dunbar', 'Q7325307', [[0, 1]]], 't': ['french horn', 'Q163759', [[7, 8]]]}\n",
      "{'tokens': ['Timba', 'Harris', '(', 'born', 'September', '21', ',', '1977', ')', 'is', 'a', 'violinist', ',', 'violist', ',', 'trumpet', 'player', ',', 'and', 'composer', '.'], 'h': ['timba harris', 'Q7804591', [[0, 1]]], 't': ['trumpet', 'Q8338', [[15]]]}\n",
      "{'tokens': ['He', 'was', 'associated', 'later', 'with', 'double', 'bass', 'player', 'Bertram', 'Turetzky', 'and', 'clarinet', 'player', 'Phillip', 'Rehfeldt', '.'], 'h': ['bertram turetzky', 'Q828508', [[8, 9]]], 't': ['double bass', 'Q80019', [[5, 6]]]}\n",
      "{'tokens': ['The', 'band', 'primarily', 'consisted', 'of', 'Edmondson', '(', 'vocals', ',', 'mandolins', ',', 'mandola', ')', 'and', 'Troy', 'Donockley', '(', 'uilleann', 'pipes', ',', 'cittern', ',', 'whistles', ',', 'vocals', ')', '.'], 'h': ['troy donockley', 'Q2748959', [[14, 15]]], 't': ['uilleann pipes', 'Q543833', [[17, 18]]]}\n",
      "{'tokens': ['This', 'became', 'the', 'stable', 'line', '-', 'up', ',', 'but', 'early', 'appearances', 'also', 'had', 'Ciaran', 'Tourish', 'or', 'Martin', 'McGinley', 'on', 'fiddle', '.'], 'h': ['martin mcginley', 'Q6776160', [[16, 17]]], 't': ['fiddle', 'Q510487', [[19]]]}\n",
      "{'tokens': ['Eric', 'Person', 'started', 'music', 'at', 'an', 'early', 'age', ',', 'picking', 'up', 'the', 'alto', 'saxophone', 'at', 'age', 'seven', '.'], 'h': ['eric person', 'Q1351545', [[0, 1]]], 't': ['saxophone', 'Q9798', [[13]]]}\n",
      "{'tokens': ['Michał', 'Urbaniak', '(', 'born', 'January', '22', ',', '1943', ')', 'is', 'a', 'Polish', 'jazz', 'musician', 'who', 'plays', 'violin', ',', 'lyricon', ',', 'and', 'saxophone', '.'], 'h': ['michał urbaniak', 'Q599896', [[0, 1]]], 't': ['saxophone', 'Q9798', [[21]]]}\n",
      "{'tokens': ['Joseph', 'Abaco', '(', 'full', 'name', 'Joseph', '(', 'Giuseppe', ')', 'Marie', 'Clément', 'Ferdinand', \"dall'Abaco\", ')', '(', '27', 'March', '171031', 'August', '1805', ')', 'was', 'an', 'Italian', 'violoncellist', 'and', 'composer', '.'], 'h': ['joseph abaco', 'Q1393945', [[0, 1]]], 't': ['violoncellist', 'Q8371', [[24]]]}\n",
      "{'tokens': ['Subsequently', ',', 'he', 'spent', 'the', 'next', 'six', 'months', 'in', 'London', ',', 'England', 'studying', 'cello', 'privately', 'with', 'William', 'Pleeth', ',', 'before', 'moving', 'on', 'to', 'Yale', 'University', 'to', 'study', 'cello', 'with', 'Aldo', 'Parisot', '.'], 'h': ['aldo parisot', 'Q2918159', [[29, 30]]], 't': ['cello', 'Q8371', [[13], [27]]]}\n",
      "{'tokens': ['Gianni', 'Bedori', '(', '25', 'November', '1930', '–', '21', 'January', '2005', ')', ',', 'also', 'known', 'as', 'Johnny', 'Sax', ',', 'was', 'an', 'Italian', 'jazz', 'saxophonist', ',', 'clarinetist', 'and', 'composer', '.'], 'h': ['gianni bedori', 'Q1522559', [[0, 1]]], 't': ['saxophonist', 'Q9798', [[22]]]}\n",
      "{'tokens': ['Duet', 'is', 'an', 'album', 'by', 'trumpeter', 'Lester', 'Bowie', 'and', 'drummer', 'Phillip', 'Wilson', 'recorded', 'in', '1978', 'and', 'released', 'on', 'the', 'Improvising', 'Artists', 'label', '.'], 'h': ['phillip wilson', 'Q2088050', [[10, 11]]], 't': ['drummer', 'Q128309', [[9]]]}\n",
      "{'tokens': ['Joe', 'Roland', '(', 'May', '17', ',', '1920', '–', 'October', '12', ',', '2009', ')', 'was', 'an', 'American', 'jazz', 'vibraphonist', '.'], 'h': ['joe roland', 'Q1691572', [[0, 1]]], 't': ['vibraphonist', 'Q206987', [[17]]]}\n",
      "{'tokens': ['Susana', 'Seivane', 'is', 'the', 'eponymous', 'debut', 'album', 'by', 'Galician', 'gaita', '(', 'bagpipes', ')', 'player', 'Susana', 'Seivane', ',', 'released', 'in', '1999', '.'], 'h': ['susana seivane', 'Q3089577', [[0, 1], [14, 15]]], 't': ['gaita', 'Q1820831', [[9]]]}\n",
      "{'tokens': ['The', 'quartet', 'consists', 'of', 'Ron', 'Carter', 'on', 'piccolo', 'bass', ',', 'Kenny', 'Barron', 'on', 'piano', ',', 'Buster', 'Williams', 'on', 'double', 'bass', ',', 'and', 'Ben', 'Riley', 'on', 'drums', '.'], 'h': ['buster williams', 'Q1017782', [[15, 16]]], 't': ['double bass', 'Q80019', [[18, 19]]]}\n",
      "{'tokens': ['Leni', 'Stern', '(', 'born', 'Magdalena', 'Thora;)Magdalena', 'Thora', 'is', 'an', 'electric', 'guitarist', ',', 'singer', ',', 'and', 'ngoni', 'player', '.'], 'h': ['leni stern', 'Q90653', [[0, 1]]], 't': ['ngoni', 'Q1703491', [[15]]]}\n",
      "{'tokens': ['Live', 'for', 'Tomorrow', 'is', 'the', 'first', 'solo', 'album', 'by', 'American', 'hard', 'rock', 'bassist', 'Marco', 'Mendoza', '.'], 'h': ['marco mendoza', 'Q2501629', [[13, 14]]], 't': ['bassist', 'Q46185', [[12]]]}\n",
      "{'tokens': ['Christopher', 'Yohmei', 'Blasdel', '(', 'クリストファー遙盟', '、', 'born', '1951', 'in', 'Canyon', ',', 'Texas', ')', 'is', 'a', 'shakuhachi', 'performer', ',', 'researcher', 'and', 'writer', 'specializing', 'in', 'the', 'music', 'of', 'Japan', 'and', 'Asia', '.'], 'h': ['christopher yohmei blasdel', 'Q16727540', [[0, 1, 2]]], 't': ['shakuhachi', 'Q524526', [[15]]]}\n",
      "{'tokens': ['Giuseppe', 'Silvestri', '(', '1841', '-', '1921', ')', 'was', 'an', 'Italian', 'classical', 'composer', 'and', 'mandolin', 'virtuoso', '.'], 'h': ['giuseppe silvestri', 'Q15429953', [[0, 1]]], 't': ['mandolin', 'Q302497', [[13]]]}\n",
      "{'tokens': ['The', 'trio', 'consisted', 'of', 'Lee', 'and', 'Rob', 'Kohler', 'on', 'keyboards', 'and', 'bass', 'respectively', ',', 'and', 'was', 'led', 'by', 'Robi', 'Johns', 'on', 'guitar', '.'], 'h': ['rob kohler', 'Q16935072', [[6, 7]]], 't': ['bass', 'Q46185', [[11]]]}\n",
      "{'tokens': ['John', 'Wallace', 'Carter', '(', 'September', '24', ',', '1929', '–', 'March', '31', ',', '1991', ')', 'was', 'an', 'American', 'jazz', 'clarinet', ',', 'saxophone', ',', 'and', 'flute', 'player', '.'], 'h': ['john wallace carter', 'Q329398', [[0, 1, 2]]], 't': ['saxophone', 'Q9798', [[20]]]}\n",
      "{'tokens': ['Howie', 'Casey', 'is', 'featured', 'with', 'a', 'saxophone', 'solo', '.'], 'h': ['howie casey', 'Q1632012', [[0, 1]]], 't': ['saxophone', 'Q9798', [[6]]]}\n",
      "{'tokens': ['It', 'consists', 'of', 'Greg', 'Pattillo', '(', 'flute', ')', ',', 'Eric', 'Stephenson', '(', 'cello', ')', ',', 'and', 'Peter', 'Seymour', '(', 'double', 'bass', ')', '.'], 'h': ['peter seymour', 'Q7176871', [[16, 17]]], 't': ['double bass', 'Q80019', [[19, 20]]]}\n",
      "{'tokens': ['The', 'band', 'also', 'consists', 'of', 'Richie', '\"', 'LaBamba', '\"', 'Rosenberg', 'on', 'trombone', ',', 'Scott', 'Healy', 'on', 'keyboard', ',', 'Mike', 'Merritt', 'on', 'bass', 'guitar', ',', 'Mark', 'Pender', 'on', 'trumpet', 'and', 'Jerry', 'Vivino', 'on', 'woodwinds', '.'], 'h': ['mark pender', 'Q6769208', [[24, 25]]], 't': ['trumpet', 'Q8338', [[27]]]}\n",
      "{'tokens': ['The', 'band', 'was', 'formed', 'in', 'November', '1982', 'by', 'Miller', 'with', 'Pip', 'Pyle', '(', 'drums', ')', ',', 'Richard', 'Sinclair', '(', 'bass', ')', 'and', 'Elton', 'Dean', '(', 'saxophone', ')', ',', 'as', 'the', 'Phil', 'Miller', 'Quartet', '.'], 'h': ['elton dean', 'Q631018', [[22, 23]]], 't': ['saxophone', 'Q9798', [[25]]]}\n",
      "{'tokens': ['At', 'fifteen', 'he', 'became', 'a', 'pupil', 'of', 'Cipriani', 'Potter', ',', 'at', 'that', 'time', 'the', 'principal', 'of', 'the', 'Royal', 'Academy', 'of', 'Music', 'where', 'he', 'specialised', 'in', 'pianoforte', '.'], 'h': ['cipriani potter', 'Q1092737', [[7, 8]]], 't': ['pianoforte', 'Q5994', [[25]]]}\n",
      "{'tokens': ['Mike', 'Aremu', 'is', 'a', 'Nigerian', 'saxophone', 'player', '.'], 'h': ['mike aremu', 'Q17385592', [[0, 1]]], 't': ['saxophone', 'Q9798', [[5]]]}\n",
      "{'tokens': ['Allmusic', 'awarded', 'the', 'album', 'with', '4', 'stars', 'and', 'its', 'review', 'by', 'Ron', 'Wynn', 'states', ':', '\"', 'Saxophone', 'workout', 'from', \"'\", '85', 'by', 'outstanding', 'British', 'player', 'John', 'Surman', '.'], 'h': ['john surman', 'Q1123533', [[25, 26]]], 't': ['saxophone', 'Q9798', [[16]]]}\n",
      "{'tokens': ['The', 'organist', 'Émile', 'Bourdon', '(', '1884–1974', ')', 'was', 'born', 'in', 'Lapalisse', '.'], 'h': ['émile bourdon', 'Q274954', [[2, 3]]], 't': ['organist', 'Q281460', [[1]]]}\n",
      "{'tokens': ['Don', 'Cherry', \"'s\", 'work', 'with', 'the', 'Ornette', 'Coleman', 'quartet', 'is', 'probably', 'the', 'best', 'known', 'example', 'of', 'pocket', 'trumpet', 'playing', '.'], 'h': ['don cherry', 'Q456180', [[0, 1]]], 't': ['trumpet', 'Q8338', [[17]]]}\n",
      "{'tokens': ['Philip', 'Harper', 'was', 'the', 'new', 'trumpet', 'player', ',', 'Javon', 'Jackson', 'joined', 'on', 'tenor', ',', 'and', 'Robin', 'Eubanks', 'returned', 'on', 'trombone', '.'], 'h': ['robin eubanks', 'Q328275', [[15, 16]]], 't': ['trombone', 'Q8350', [[19]]]}\n",
      "{'tokens': ['Paul', 'McCartney', 'plays', 'the', 'same', 'double', 'bass', 'Bill', 'Black', 'played', 'on', 'Elvis', 'Presley', 'songs', '.'], 'h': ['paul mccartney', 'Q2599', [[0, 1]]], 't': ['double bass', 'Q80019', [[5, 6]]]}\n",
      "{'tokens': ['Jo', 'Freya', '(', 'born', '4', 'December', '1960', ')', 'is', 'an', 'English', 'saxophonist', ',', 'clarinetist', 'and', 'singer', '.'], 'h': ['jo freya', 'Q16193585', [[0, 1]]], 't': ['saxophonist', 'Q9798', [[11]]]}\n",
      "{'tokens': ['Nick', 'Haywood', 'is', 'a', 'prominent', 'Australian', 'jazz', 'double', 'bass', 'player', ',', 'composer', 'and', 'music', 'educator', 'in', 'Melbourne', '.'], 'h': ['nick haywood', 'Q7027277', [[0, 1]]], 't': ['double bass', 'Q80019', [[7, 8]]]}\n",
      "{'tokens': ['Neal', 'Starkey', 'is', 'an', 'American', 'jazz', 'bassist', 'residing', 'in', 'Atlanta', ',', 'Georgia', '.'], 'h': ['neal starkey', 'Q6984196', [[0, 1]]], 't': ['bassist', 'Q80019', [[6]]]}\n",
      "{'tokens': ['Davy', 'Spillane', '(', 'born', '6', 'January', '1959', 'in', 'Dublin', ')', 'is', 'an', 'Irish', 'musician', ',', 'songwriter', 'and', 'a', 'player', 'of', 'uilleann', 'pipes', 'and', 'low', 'whistle', '.'], 'h': ['davy spillane', 'Q1178428', [[0, 1]]], 't': ['uilleann pipes', 'Q543833', [[20, 21]]]}\n",
      "{'tokens': ['Authors', 'include', 'the', 'bassists', 'Henry', 'Grimes', 'and', 'William', 'Parker', 'and', 'the', 'saxophonists', 'Roy', 'Nathanson', 'and', 'Noah', 'Howard', '.'], 'h': ['noah howard', 'Q1994634', [[15, 16]]], 't': ['saxophonists', 'Q9798', [[11]]]}\n",
      "{'tokens': ['Widely', 'regarded', 'today', 'as', 'one', 'of', 'the', 'classics', 'of', 'British', \"'\", 'acid', 'folk', \"'\", ',', 'it', 'featured', 'guest', 'appearances', 'from', 'the', 'band', \"'s\", 'former', 'members', ',', 'as', 'well', 'as', 'contributions', 'from', 'Henry', 'Lowther', 'on', 'trumpet', '.'], 'h': ['henry lowther', 'Q1606995', [[31, 32]]], 't': ['trumpet', 'Q8338', [[34]]]}\n",
      "{'tokens': ['Carmine', 'de', 'Laurentiis', 'was', 'a', '19th', '-', 'Century', 'Italian', 'mandolinist', ',', 'musical', 'educator', ',', 'author', 'and', 'composer', 'who', 'taught', 'mandolin', 'and', 'guitar', 'in', 'Naples', '.'], 'h': ['carmine de laurentiis', 'Q21055288', [[0, 1, 2]]], 't': ['mandolin', 'Q302497', [[19]]]}\n",
      "{'tokens': ['In', '2008', ',', 'pianist', 'David', 'Benoit', 'recorded', 'a', 'version', 'for', 'his', 'covers', 'album', '\"', 'Heroes', '\"', 'and', 'saxophonist', 'Gerald', 'Albright', 'covered', 'the', 'song', 'on', 'the', 'album', '\"', 'Sax', 'for', 'Stax', '\"', '.'], 'h': ['gerald albright', 'Q724301', [[18, 19]]], 't': ['saxophonist', 'Q9798', [[17]]]}\n",
      "{'tokens': ['Rosen', 'is', 'a', 'member', 'of', 'Trio', 'X', 'with', 'trumpeter', '/', 'saxophonist', 'Joe', 'McPhee', 'and', 'double', 'bassist', 'Dominic', 'Duval', ',', 'and', 'performs', 'in', 'Cosmosomatics', 'with', 'saxophonist', 'Sonny', 'Simmons', '.'], 'h': ['sonny simmons', 'Q1753500', [[25, 26]]], 't': ['saxophonist', 'Q9798', [[10], [24]]]}\n",
      "{'tokens': ['He', 'studied', 'with', 'Walter', 'Nothas', ',', 'Austrian', 'cellist', 'Heinrich', 'Schiff', 'and', 'British', 'cellist', 'Steven', 'Isserlis', '.'], 'h': ['heinrich schiff', 'Q662066', [[8, 9]]], 't': ['cellist', 'Q8371', [[7], [12]]]}\n",
      "{'tokens': ['George', 'Duvivier', '(', 'August', '17', ',', '1920', '–', 'July', '11', ',', '1985', ')', 'was', 'an', 'American', 'jazz', 'double', '-', 'bass', 'player', '.'], 'h': ['george duvivier', 'Q1370288', [[0, 1]]], 't': ['double-bass', 'Q80019', [[17, 18, 19]]]}\n",
      "{'tokens': ['Raffaele', 'Calace', 'made', 'three', 'long', '-', 'playing', 'phonograph', 'records', 'on', 'which', 'he', 'plays', 'mandolin', 'and', 'liuto', 'cantabile', '.'], 'h': ['raffaele calace', 'Q1344676', [[0, 1]]], 't': ['liuto cantabile', 'Q6654102', [[15, 16]]]}\n",
      "{'tokens': ['Rosen', 'is', 'a', 'member', 'of', 'Trio', 'X', 'with', 'trumpeter', '/', 'saxophonist', 'Joe', 'McPhee', 'and', 'double', 'bassist', 'Dominic', 'Duval', ',', 'and', 'performs', 'in', 'Cosmosomatics', 'with', 'saxophonist', 'Sonny', 'Simmons', '.'], 'h': ['joe mcphee', 'Q922047', [[11, 12]]], 't': ['saxophonist', 'Q9798', [[10], [24]]]}\n",
      "{'tokens': ['It', 'was', 'the', 'last', 'to', 'feature', 'Takeshi', 'Itoh', 'on', 'Saxophone', ',', 'during', 'his', 'initial', 'run', 'with', 'the', 'band', '(', 'from', '1977', 'to', '1990', ')', '.'], 'h': ['takeshi itoh', 'Q7678120', [[6, 7]]], 't': ['saxophone', 'Q9798', [[9]]]}\n",
      "{'tokens': ['Steinar', 'Raknes', '(', 'Double', 'Bass', ')', 'Håkon', 'Mjåset', 'Johansen', '(', 'Drums', ')', 'Frode', 'Nymo', '(', 'Saxophone', ')', '.'], 'h': ['steinar raknes', 'Q6061836', [[0, 1]]], 't': ['double bass', 'Q80019', [[3, 4]]]}\n",
      "{'tokens': ['Musa', 'Eroğlu', '(', 'born', '1946', ',', 'Göksu', ',', 'Mut', '(', 'Kravga', ')', 'in', 'Mersin', 'Province', ')', 'is', 'a', 'Turkish', 'folk', 'musician', 'and', 'bağlama', 'virtuoso', '.'], 'h': ['musa eroğlu', 'Q1953954', [[0, 1]]], 't': ['bağlama', 'Q717773', [[22]]]}\n",
      "{'tokens': ['Edward', 'Hankins', 'Tarr', '(', 'born', 'June', '15', ',', '1936', 'in', 'Norwich', ',', 'Connecticut', ')', ',', 'is', 'an', 'American', 'trumpet', 'player', 'and', 'musicologist', '.'], 'h': ['edward hankins tarr', 'Q876984', [[0, 1, 2]]], 't': ['trumpet', 'Q8338', [[18]]]}\n",
      "{'tokens': ['AllMusic', 'critic', 'Matthew', 'Greenwald', 'calls', 'it', 'a', '\"', 'breezy', ',', 'infectious', 'pop', 'melody', '\"', 'with', '\"', 'choral', 'harmony', 'breaks', ',', '\"', 'and', 'particularly', 'praises', 'Chris', 'White', \"'s\", '\"', 'melodic', '\"', 'bass', 'playing', '.'], 'h': ['chris white', 'Q2964894', [[24, 25]]], 't': ['bass', 'Q46185', [[30]]]}\n",
      "{'tokens': ['The', 'musicians', 'on', 'this', 'album', 'are', 'Corea', '(', 'piano', ')', ',', 'Miroslav', 'Vitouš', '(', 'bass', ')', ',', 'and', 'Roy', 'Haynes', '(', 'drums', ')', '.'], 'h': ['miroslav vitouš', 'Q558162', [[11, 12]]], 't': ['bass', 'Q80019', [[14]]]}\n",
      "{'tokens': ['The', 'song', '’s', 'bass', 'guitar', 'part', 'is', 'unique', 'in', 'that', 'backing', 'bassist', 'Tony', 'Levin', 'and', 'then', '-', 'backing', 'drummer', 'Jerry', 'Marotta', 'teamed', 'up', 'for', 'the', 'main', 'bassline', '.'], 'h': ['tony levin', 'Q216986', [[12, 13]]], 't': ['bass guitar', 'Q46185', [[3, 4]]]}\n",
      "{'tokens': ['In', '1984', 'House', 'formed', 'an', 'instrumental', 'prog', '-', 'rock', 'three', '-', 'piece', 'band', 'called', 'feeDBack', 'with', 'Matt', 'Cameron', 'on', 'drums', 'and', 'a', 'guitarist', 'named', '“', 'Nerm', '”', '(', 'real', 'name', 'Tom', 'Herring', ')', '.'], 'h': ['matt cameron', 'Q318587', [[16, 17]]], 't': ['drums', 'Q128309', [[19]]]}\n",
      "{'tokens': ['How', 'to', 'Raise', 'an', 'Ox', 'is', 'the', 'seventh', 'studio', 'album', 'by', 'Italian', 'band', 'Zu', ',', 'released', 'in', '2006', ',', 'in', 'collaboration', 'with', 'Mats', 'Gustafsson', 'on', 'saxophone', '.'], 'h': ['mats gustafsson', 'Q1384168', [[22, 23]]], 't': ['saxophone', 'Q9798', [[25]]]}\n",
      "{'tokens': ['Harry', 'Carney', ',', 'Duke', 'Ellington', \"'s\", 'baritone', 'saxophonist', 'for', '47', 'years', ',', 'played', 'bass', 'clarinet', 'in', 'some', 'of', 'Ellington', \"'s\", 'arrangements', ',', 'first', 'recording', 'with', 'it', 'on', '\"', 'Saddest', 'Tale', '\"', 'in', '1934', '.'], 'h': ['harry carney', 'Q1375567', [[0, 1]]], 't': ['clarinet', 'Q8343', [[14]]]}\n",
      "{'tokens': ['Misha', 'Quint', '(', 'born', 'April', '27', ',', '1960', ')', 'is', 'a', 'Russian', '-', 'born', 'classical', 'cellist', 'and', 'music', 'director', '.'], 'h': ['misha quint', 'Q15056476', [[0, 1]]], 't': ['cellist', 'Q8371', [[15]]]}\n",
      "{'tokens': ['During', 'the', 'EP', \"'s\", 'recording', 'Barclay', 'was', 'replaced', 'by', 'Ryan', 'Martinie', ',', 'former', 'bassist', 'for', 'the', 'progressive', '-', 'rock', 'band', 'Broken', 'Altar', '.'], 'h': ['ryan martinie', 'Q2716240', [[9, 10]]], 't': ['bassist', 'Q46185', [[13]]]}\n",
      "{'tokens': ['Bassinvaders', '(', 'also', 'known', 'as', 'Markus', 'Grosskopf', \"'s\", 'Bassinvaders', ')', 'is', 'the', 'bass', 'guitar', 'focused', 'side', '-', 'project', 'of', 'Helloween', 'bassist', 'Markus', 'Grosskopf', '.'], 'h': ['markus grosskopf', 'Q456036', [[5, 6], [21, 22]]], 't': ['bass guitar', 'Q46185', [[12, 13]]]}\n",
      "{'tokens': ['Maestro', '\"', 'Stickoutski', '\"', '(', 'Leopold', 'Stokowski', ')', 'plays', 'his', '\"', 'fertilizer', '\"', '(', 'Wurlitzer', 'pipe', 'organ', ')', ',', 'while', 'lyrics', 'appear', 'on', 'screen', 'for', 'the', 'audience', 'to', 'follow', 'in', 'singing', '.'], 'h': ['leopold stokowski', 'Q297562', [[5, 6]]], 't': ['pipe organ', 'Q281460', [[15, 16]]]}\n",
      "{'tokens': ['Hiseman', 'has', 'subsequently', 'played', 'in', 'jazz', 'groups', ',', 'notably', 'with', 'his', 'wife', ',', 'saxophonist', 'Barbara', 'Thompson', ',', 'with', 'whom', 'he', 'has', 'recorded', 'and', 'produced', 'fifteen', 'currently', 'available', 'albums', '.'], 'h': ['barbara thompson', 'Q276678', [[14, 15]]], 't': ['saxophonist', 'Q9798', [[13]]]}\n",
      "{'tokens': ['Rudolf', 'Jansen', '(', 'born', 'January', '19', ',', '1940', 'in', 'Arnhem', ')', 'is', 'a', 'Dutch', 'pianist', ',', 'who', 'studied', 'piano', ',', 'organ', 'and', 'harpsichord', 'simultaneously', 'at', 'the', 'Conservatoire', 'of', 'Amsterdam', '.'], 'h': ['rudolf jansen', 'Q7377219', [[0, 1]]], 't': ['organ', 'Q1444', [[20]]]}\n",
      "{'tokens': ['He', 'was', 'also', 'the', 'brother', 'of', 'Marcel', 'LaFosse', '(', '1895–1969', ')', 'who', 'played', 'second', 'trumpet', 'with', 'the', 'Boston', 'Symphony', 'Orchestra', 'from', '1928', 'until', 'the', 'mid-1950s', '.'], 'h': ['marcel lafosse', 'Q3289092', [[6, 7]]], 't': ['trumpet', 'Q8338', [[14]]]}\n",
      "{'tokens': ['Later', ',', 'admirers', 'who', 'associated', 'Haras', \"'\", 'trombone', 'playing', 'with', 'the', 'style', 'of', 'Chicago', '’s', 'trombonist', '\"', 'James', 'Pankow', ',', '\"', 'nicknamed', 'Haras', '\"', '\"', 'Chicago', '.', '\"', '\"'], 'h': ['james pankow', 'Q2012318', [[17, 18]]], 't': ['trombone', 'Q8350', [[7]]]}\n",
      "{'tokens': ['The', 'album', 'featured', 'Jim', 'Capaldi', 'on', 'drums', ',', 'keyboards', 'and', 'vocals', ';', 'Rosko', 'Gee', 'on', 'bass', 'guitar', ';', 'Steve', 'Winwood', 'on', 'guitar', ',', 'keyboards', ',', 'and', 'vocals', ';', 'and', 'Chris', 'Wood', 'on', 'flute', 'and', 'saxophone', '.'], 'h': ['chris wood', 'Q26099', [[29, 30]]], 't': ['saxophone', 'Q9798', [[34]]]}\n",
      "{'tokens': ['He', 'also', 'has', 'his', 'own', 'quartet', 'with', 'Mark', 'Turner', '(', 'tenor', 'saxophone', ')', ',', 'Nicolas', 'Thys', '(', 'bass', 'guitar', 'and', 'double', 'bass', ')', 'and', 'Jim', 'Black', '(', 'drums', ')', '.'], 'h': ['jim black', 'Q252642', [[24, 25]]], 't': ['drums', 'Q128309', [[27]]]}\n",
      "{'tokens': ['While', 'in', 'Chicago', ',', 'he', 'learned', 'the', 'blues', 'harp', 'from', 'Little', 'Walter', 'and', 'began', 'an', 'association', 'with', 'pianist', 'Eddie', 'Boyd', '.'], 'h': ['little walter', 'Q380261', [[10, 11]]], 't': ['blues harp', 'Q51290', [[7, 8]]]}\n",
      "{'tokens': ['With', 'a', 'dramatically', 'extended', 'line', '-', 'up', ',', 'featuring', 'classical', 'musicians', 'such', 'as', 'cello', 'player', 'Caroline', 'Lavelle', 'and', 'Tuxedomoon', 'violinist', 'Blaine', 'L.', 'Reininger', ',', '\"', 'Without', 'Mercy', '\"', 'was', 'recorded', 'in', 'Strawberry', 'Studios', '.'], 'h': ['caroline lavelle', 'Q450712', [[15, 16]]], 't': ['cello', 'Q8371', [[13]]]}\n",
      "{'tokens': ['Christian', 'Forshaw', 'is', 'a', 'British', 'saxophone', 'virtuoso', 'and', 'composer', '.'], 'h': ['christian forshaw', 'Q5109605', [[0, 1]]], 't': ['saxophone', 'Q9798', [[5]]]}\n",
      "{'tokens': ['Poirt', 'an', 'Phiobaire', 'is', 'a', '1983', 'solo', 'release', 'by', 'uillean', 'piper', 'and', 'whistle', 'player', 'Paddy', 'Keenan', '.'], 'h': ['paddy keenan', 'Q570437', [[14, 15]]], 't': ['uillean piper', 'Q543833', [[9, 10]]]}\n",
      "{'tokens': ['The', 'EP', 'also', 'featured', 'Nenad', 'Stefanović', '\"', 'Japanac', '\"', 'on', 'bass', 'guitar', 'and', 'Laza', 'Ristovski', 'on', 'keyboards', '.'], 'h': ['laza ristovski', 'Q571938', [[13, 14]]], 't': ['keyboards', 'Q52954', [[16]]]}\n",
      "{'tokens': ['Stephen', 'Burns', 'is', 'an', 'American', 'trumpet', 'virtuoso', ',', 'composer', ',', 'and', 'conductor', '.'], 'h': ['stephen burns', 'Q7608809', [[0, 1]]], 't': ['trumpet', 'Q8338', [[5]]]}\n",
      "{'tokens': ['Other', 'guest', 'performers', 'include', 'Marty', 'Stuart', 'on', 'mandolin', 'and', 'Garry', 'Tallent', 'on', 'electric', 'and', 'upright', 'bass', '.'], 'h': ['garry tallent', 'Q1273265', [[9, 10]]], 't': ['electric', 'Q46185', [[12]]]}\n",
      "{'tokens': ['Michael', 'Cleveland', '(', 'b.', 'September', '18', ',', '1980', ')', 'is', 'an', 'award', '-', 'winning', 'blind', 'American', 'bluegrass', 'fiddle', 'player', '.'], 'h': ['michael cleveland', 'Q6829309', [[0, 1]]], 't': ['fiddle', 'Q510487', [[17]]]}\n",
      "{'tokens': ['John', 'Cocuzzi', '(', 'born', '1964', ')', 'is', 'an', 'American', 'jazz', ',', 'blues', ',', 'and', 'swing', 'musician', 'who', 'specializes', 'in', 'the', 'vibraphone', 'and', 'piano', ',', 'as', 'well', 'as', 'drums', '.'], 'h': ['john cocuzzi', 'Q6226509', [[0, 1]]], 't': ['vibraphone', 'Q206987', [[20]]]}\n",
      "{'tokens': ['Among', 'them', 'were', 'saxophonist', 'Pete', 'Christlieb', 'and', 'drummer', 'Jeff', 'Porcaro', ';', 'several', 'members', 'of', 'the', 'Eagles', 'sang', 'backing', 'vocals', '.'], 'h': ['pete christlieb', 'Q1410581', [[4, 5]]], 't': ['saxophonist', 'Q9798', [[3]]]}\n",
      "{'tokens': ['The', 'writing', 'credit', 'for', 'Ward', 'refers', 'to', 'Motello', ',', 'real', 'name', 'Alan', 'Ward', ',', 'not', 'ex', '-', 'Damned', 'bass', 'player', 'Algy', 'Ward', '.'], 'h': ['algy ward', 'Q1132063', [[20, 21]]], 't': ['bass', 'Q46185', [[18]]]}\n",
      "{'tokens': ['She', 'acquired', 'a', 'Kirckman', 'harpsichord', ',', 'which', 'had', 'been', 'rebuilt', 'by', 'the', 'instrument', 'maker', 'Henry', 'Tull', ',', 'and', ',', 'with', 'the', 'group', ',', 'toured', 'widely', 'and', 'became', 'a', 'prolific', 'broadcaster', 'for', 'the', 'BBC', '.'], 'h': ['kirckman', 'Q3197402', [[3]]], 't': ['harpsichord', 'Q81982', [[4]]]}\n",
      "{'tokens': ['Additional', 'percussion', ',', 'comprising', 'claves', ',', 'cabasa', ',', 'güiro', 'and', 'conga', ',', 'by', 'Michael', 'Carabello', ',', 'was', 'added', 'during', 'overdub', 'sessions', 'in', 'April', 'and', 'June', '1981', '.'], 'h': ['michael carabello', 'Q3313253', [[13, 14]]], 't': ['conga', 'Q270200', [[10]]]}\n",
      "{'tokens': ['With', 'Jim', 'Hall', '(', 'guitar', ')', 'and', 'Eddie', 'Gómez', '(', 'bass', ')', '.'], 'h': ['eddie gómez', 'Q948613', [[7, 8]]], 't': ['bass', 'Q80019', [[10]]]}\n",
      "{'tokens': ['Jean', 'Pietrapertosa', '(', '1855–1940', ')', 'was', 'a', 'composer', 'and', 'virtuoso', 'of', 'the', 'mandolin', 'who', 'performed', 'in', 'Paris', 'in', 'the', '1880s', '.'], 'h': ['jean pietrapertosa', 'Q15997046', [[0, 1]]], 't': ['mandolin', 'Q302497', [[12]]]}\n",
      "{'tokens': ['Friedemann', 'Kupsa', 'studied', 'at', 'the', 'Hochschule', 'für', 'Musik', 'und', 'Theater', ',', 'Vienna', ',', 'and', 'attended', 'masterclasses', 'with', 'Daniil', 'Shafran', '(', 'cello', ')', 'and', 'the', 'La', 'Salle', 'Quartet', '(', 'chamber', 'music', ')', '.'], 'h': ['daniil shafran', 'Q1163944', [[17, 18]]], 't': ['cello', 'Q8371', [[20]]]}\n",
      "{'tokens': ['John', 'Marcellus', 'is', 'a', 'trombone', 'musician', 'and', 'teacher', '.'], 'h': ['john marcellus', 'Q6246690', [[0, 1]]], 't': ['trombone', 'Q8350', [[4]]]}\n",
      "{'tokens': ['In', '1970', ',', 'Dave', 'Torbert', 'replaced', 'Phil', 'Lesh', 'as', 'the', 'New', 'Riders', \"'\", 'bass', 'player', ',', 'and', 'Spencer', 'Dryden', 'replaced', 'Mickey', 'Hart', 'on', 'drums', '.'], 'h': ['mickey hart', 'Q522201', [[20, 21]]], 't': ['drums', 'Q128309', [[23]]]}\n",
      "{'tokens': ['He', 'performed', 'in', 'the', 'Tulla', 'Céilí', 'Band', 'and', 'Kilfenora', 'Céilí', 'Band', 'and', 'recorded', 'duet', 'albums', 'with', 'uilleann', 'piper', 'Ronan', 'Browne', 'and', 'fiddler', 'Maeve', 'Donnelly', '.'], 'h': ['ronan browne', 'Q2378203', [[18, 19]]], 't': ['uilleann piper', 'Q543833', [[16, 17]]]}\n",
      "{'tokens': ['On', 'track', '11', ',', '\"', 'Nobody', 'Knows', 'But', 'Me', '\"', ',', 'the', 'shakuhachi', 'is', 'played', 'by', 'former', 'Rin', \"'\", 'member', 'Tomoca', '.'], 'h': [\"rin'\", 'Q1969006', [[17, 18]]], 't': ['shakuhachi', 'Q524526', [[12]]]}\n",
      "{'tokens': ['Old', 'time', 'and', 'fiddle', 'music', 'are', 'well', 'represented', 'by', 'such', 'Canadian', 'exponents', 'as', 'Jerry', 'Holland', ',', 'Natalie', 'MacMaster', ',', 'Sierra', 'Noble', ',', 'The', 'Rankin', 'Family', ',', 'and', 'Ashley', 'MacIsaac', '.'], 'h': ['ashley macisaac', 'Q725953', [[27, 28]]], 't': ['fiddle', 'Q510487', [[3]]]}\n",
      "{'tokens': ['Ottavio', 'Dantone', '(', 'born', '9', 'October', '1960', ')', 'is', 'an', 'Italian', 'conductor', 'and', 'keyboardist', '(', 'primarily', 'harpsichord', 'and', 'fortepiano', ')', 'particularly', 'noted', 'for', 'his', 'performances', 'of', 'Baroque', 'music', '.'], 'h': ['ottavio dantone', 'Q963831', [[0, 1]]], 't': ['harpsichord', 'Q81982', [[16]]]}\n",
      "{'tokens': ['Along', 'with', 'Kyle', 'Creed', ',', 'Wade', 'Ward', 'is', 'thought', 'by', 'many', 'to', 'embody', 'the', \"'\", 'Galax', \"'\", 'style', 'of', 'clawhammer', 'banjo', 'playing', '.'], 'h': ['wade ward', 'Q643096', [[5, 6]]], 't': ['banjo', 'Q258896', [[20]]]}\n",
      "{'tokens': ['Raphael', 'Wallfisch', '(', 'born', '15', 'June', '1953', ',', 'London', ')', 'is', 'a', 'British', 'cellist', '.'], 'h': ['raphael wallfisch', 'Q268607', [[0, 1]]], 't': ['cellist', 'Q8371', [[13]]]}\n",
      "{'tokens': ['The', 'quartet', 'featured', 'Don', 'Grolnick', 'exclusively', 'on', 'Hammond', 'B-3', 'organ', ',', 'double', 'bassist', 'Anthony', 'Cox', 'and', 'either', 'Johnny', 'Vidacovich', 'or', 'Terri', 'Lyne', 'Carrington', 'on', 'drums', '.'], 'h': ['terri lyne carrington', 'Q466966', [[20, 21, 22]]], 't': ['drums', 'Q128309', [[24]]]}\n",
      "{'tokens': ['String', 'arrangement', 'and', 'orchestration', 'were', 'provided', 'by', 'Dave', 'Eggar', 'and', 'Chuck', 'Palmer', ',', 'while', 'Eggar', 'played', 'the', 'cello', 'and', 'Palmer', 'acted', 'as', 'the', 'track', \"'s\", 'conductor', '.'], 'h': ['dave eggar', 'Q5228721', [[7, 8]]], 't': ['cello', 'Q8371', [[17]]]}\n",
      "{'tokens': ['After', 'he', 'received', 'a', 'degree', 'in', 'music', 'from', 'the', 'University', 'of', 'Toronto', ',', 'he', 'went', 'on', 'to', 'Austria', 'and', 'Italy', 'to', 'study', 'under', 'two', 'renowned', 'double', 'bass', 'pedagogues', ',', 'respectively', 'Ludwig', 'Streicher', 'and', 'Franco', 'Petracchi', '.'], 'h': ['ludwig streicher', 'Q45863', [[30, 31]]], 't': ['double bass', 'Q80019', [[25, 26]]]}\n",
      "{'tokens': ['John', 'Thyhsen', 'is', 'an', 'American', 'trumpet', 'player', ',', 'most', 'notable', 'as', 'one', 'of', 'the', 'longest', 'playing', 'Principal', 'Trumpets', 'of', 'the', 'Philly', 'Pops', 'and', 'Professor', 'Emeritus', 'of', 'Rowan', 'University', '.'], 'h': ['john thyhsen', 'Q20880829', [[0, 1]]], 't': ['trumpet', 'Q8338', [[5]]]}\n",
      "{'tokens': ['Featured', 'on', 'the', 'instrumental', 'track', 'were', 'regular', 'Wrecking', 'Crew', 'members', 'such', 'as', 'Hal', 'Blaine', 'on', 'drums', 'and', 'Carol', 'Kaye', 'on', 'bass', 'guitar', '.'], 'h': ['carol kaye', 'Q433273', [[17, 18]]], 't': ['bass guitar', 'Q46185', [[20, 21]]]}\n",
      "{'tokens': ['The', 'group', 'of', 'young', 'musicians', 'was', 'organized', 'in', '1970', 'by', 'banjo', 'and', 'guitar', 'player', 'Danny', 'Barker', '.'], 'h': ['danny barker', 'Q1164505', [[14, 15]]], 't': ['banjo', 'Q258896', [[10]]]}\n",
      "{'tokens': ['The', 'Gran', 'Duo', 'Concertante', 'for', 'two', 'double', 'basses', 'and', 'orchestra', 'was', 'composed', 'by', 'the', 'Italian', 'double', 'bass', 'virtuoso', 'Giovanni', 'Bottesini', 'in', '1880', '.'], 'h': ['giovanni bottesini', 'Q354101', [[18, 19]]], 't': ['double bass', 'Q80019', [[15, 16]]]}\n",
      "{'tokens': ['According', 'to', 'the', 'violinist', 'and', 'conductor', 'Angus', 'Watson', ',', 'these', 'were', 'probably', 'Franz', 'Weiss', 'on', 'viola', 'and', 'either', 'Nikolaus', 'Kraft', 'or', 'his', 'father', 'Anton', 'on', 'cello', '.'], 'h': ['anton', 'Q591251', [[23]]], 't': ['cello', 'Q8371', [[25]]]}\n",
      "{'tokens': ['Derek', 'Wadsworth', '(', '5', 'February', '1939', ',', 'Cleckheaton', ',', 'Yorkshire', '\\xa0', '–', '3', 'December', '2008', ',', 'Oxfordshire', ')', 'was', 'an', 'English', 'jazz', 'trombonist', ',', 'session', 'musician', ',', 'composer', 'and', 'arranger', '.'], 'h': ['derek wadsworth', 'Q1200128', [[0, 1]]], 't': ['trombonist', 'Q8350', [[22]]]}\n",
      "{'tokens': ['Maurice', 'Kufferath', '(', '8', 'January', '1852', '–', '8', 'December', '1919', ')', 'was', 'a', 'Belgian', 'music', 'critic', ',', 'librettist', ',', 'cellist', 'and', 'conductor', '.'], 'h': ['maurice kufferath', 'Q3300983', [[0, 1]]], 't': ['cellist', 'Q8371', [[19]]]}\n",
      "{'tokens': ['He', 'made', 'extensive', 'use', 'of', 'double', '-', 'stops', ',', 'and', 'music', 'writer', 'Barry', 'Taylor', 'suggests', 'this', 'may', 'result', 'from', 'the', 'influence', 'of', 'his', 'friendships', 'with', 'uilleann', 'pipers', 'Willie', 'Clancy', 'and', 'Johnny', 'Doran', '.'], 'h': ['johnny doran', 'Q2790775', [[30, 31]]], 't': ['uilleann pipers', 'Q543833', [[25, 26]]]}\n",
      "{'tokens': ['He', 'studied', 'cello', 'with', 'Diran', 'Alexanian', '(', '1948', 'to', '1950', ')', ',', 'with', 'Paul', 'Olefsky', '(', '1950', 'to', '1952', ')', ',', 'and', 'with', 'Leonard', 'Rose', '(', '1953', 'to', '1955', ')', '.'], 'h': ['leonard rose', 'Q1378383', [[23, 24]]], 't': ['cello', 'Q8371', [[2]]]}\n",
      "{'tokens': ['Jane', 'Scarpantoni', 'is', 'a', 'classically', 'trained', 'cello', 'player', 'who', 'has', 'played', 'on', 'a', 'number', 'of', 'alternative', 'rock', 'albums', '.'], 'h': ['jane scarpantoni', 'Q6152723', [[0, 1]]], 't': ['cello', 'Q8371', [[6]]]}\n",
      "{'tokens': ['Dr.', 'Herzog', 'studied', 'viol', 'with', 'Judith', 'Davidoff', 'and', 'Wieland', 'Kuijken', '.'], 'h': ['wieland kuijken', 'Q1766760', [[8, 9]]], 't': ['viol', 'Q40125', [[3]]]}\n",
      "{'tokens': ['He', 'was', 'accompanied', 'by', 'Hein', 'van', 'de', 'Geyn', '(', 'double', 'bass', ',', ')', 'Hans', 'Van', 'Oosterhout', '(', 'drums', ')', 'and', 'Bert', 'Joris', '(', 'bugle', ',', 'trumpet', '.', ')'], 'h': ['hein van de geyn', 'Q1595954', [[4, 5, 6, 7]]], 't': ['double bass', 'Q80019', [[9, 10]]]}\n",
      "{'tokens': ['This', 'version', 'highlights', 'saxophonist', 'Eric', 'Marienthal', '.'], 'h': ['eric marienthal', 'Q1351497', [[4, 5]]], 't': ['saxophonist', 'Q9798', [[3]]]}\n",
      "{'tokens': ['When', 'stationed', 'in', 'California', ',', 'Orlando', 'sat', 'in', 'for', 'Tito', 'Puente', 'on', 'timbales', 'at', 'the', 'Hollywood', 'Palladium', '.'], 'h': ['tito puente', 'Q317122', [[9, 10]]], 't': ['timbales', 'Q379248', [[12]]]}\n",
      "{'tokens': ['The', 'album', 'features', 'long', 'term', 'collaborators', 'Sam', 'Mills', 'on', 'guitar', ',', 'Vincent', 'Segal', 'on', 'cello', ',', 'and', 'tabla', 'player', 'and', 'percussionist', 'Aref', 'Durvesh', '.'], 'h': ['vincent segal', 'Q3559853', [[11, 12]]], 't': ['cello', 'Q8371', [[14]]]}\n",
      "{'tokens': ['Edwin', 'Barker', 'is', 'an', 'American', 'double', 'bass', 'player', 'who', 'graduated', 'from', 'the', 'New', 'England', 'Conservatory', '.'], 'h': ['edwin barker', 'Q5346240', [[0, 1]]], 't': ['double bass', 'Q80019', [[5, 6]]]}\n",
      "{'tokens': ['The', 'band', \"'s\", 'guitarist', ',', 'George', 'Harrison', 'could', 'play', 'the', 'guitar', ',', 'sitar', ',', 'keyboards', 'and', 'bass', ',', 'and', 'their', 'drummer', ',', 'Ringo', 'Starr', 'played', 'drums', 'and', 'other', 'percussion', 'instruments', 'as', 'well', 'as', 'keyboards', '.'], 'h': ['george harrison', 'Q2643', [[5, 6]]], 't': ['bass', 'Q46185', [[16]]]}\n",
      "{'tokens': ['The', 'song', 'is', 'often', 'paired', 'with', '\"', 'Jungleland', '\"', 'in', 'concert', ',', 'though', 'without', 'the', 'Randy', 'Brecker', 'trumpet', 'part', 'from', 'the', 'record', 'and', 'with', 'regular', 'bass', 'guitarist', 'Garry', 'Tallent', '.'], 'h': ['randy brecker', 'Q48996', [[15, 16]]], 't': ['trumpet', 'Q8338', [[17]]]}\n",
      "{'tokens': ['Born', 'to', 'a', 'musical', 'family', 'in', 'Budapest', ',', 'Tommy', 'Vig', 'was', 'internationally', 'recognized', 'as', 'a', 'child', 'prodigy', 'by', 'the', 'age', 'of', '6', ',', 'playing', 'drums', 'with', 'his', 'father', ',', 'clarinetist', 'Gyorgy', 'Vig', '.'], 'h': ['tommy vig', 'Q675885', [[8, 9]]], 't': ['drums', 'Q128309', [[24]]]}\n",
      "{'tokens': ['Todd', 'Stoll', 'was', 'raised', 'in', 'Springfield', ',', 'Ohio', ',', 'where', 'he', 'studied', 'trumpet', 'at', 'the', 'University', 'of', 'Cincinnati', '’s', 'Conservatory', 'of', 'Music', ',', 'and', 'later', 'came', 'under', 'the', 'tutelage', 'of', 'Vaughn', 'Wiester', '.'], 'h': ['todd stoll', 'Q21063649', [[0, 1]]], 't': ['trumpet', 'Q8338', [[12]]]}\n",
      "{'tokens': ['Niels', 'Peter', 'Jensen', '(', 'July', '23', ',', '1802', '–', 'October', '19', ',', '1846', ')', 'was', 'a', 'Danish', 'composer', ',', 'flutist', 'and', 'organist', '.'], 'h': ['niels peter jensen', 'Q457378', [[0, 1, 2]]], 't': ['organist', 'Q1444', [[21]]]}\n",
      "{'tokens': ['5', ',', '1941', ')', ',', 'known', 'as', 'Uncle', 'John', 'Scruggs', ',', 'was', 'an', 'African', 'American', 'banjo', 'player', 'who', 'attracted', 'attention', 'for', 'his', 'singing', 'and', 'playing', 'during', 'the', '1920s', 'and', \"'\", '30s', '.'], 'h': ['uncle john scruggs', 'Q7882757', [[7, 8, 9]]], 't': ['banjo', 'Q258896', [[15]]]}\n",
      "{'tokens': ['Now', 'Chuck', 'Mangione', 'occupied', 'the', 'trumpet', 'chair', 'with', 'Frank', 'Mitchell', 'on', 'tenor', 'sax', ',', 'Keith', 'Jarrett', 'on', 'piano', 'and', 'Reggie', 'Johnson', 'on', 'bass', '.'], 'h': ['chuck mangione', 'Q945778', [[1, 2]]], 't': ['trumpet', 'Q8338', [[5]]]}\n",
      "{'tokens': ['Chris', 'Craker', '(', 'born', '1959', 'in', 'Bromley', ',', 'Kent', ')', ',', 'studied', 'the', 'clarinet', 'at', 'the', 'Royal', 'Northern', 'College', 'of', 'Music', 'from', '1977–1981', '.'], 'h': ['chris craker', 'Q5106293', [[0, 1]]], 't': ['clarinet', 'Q8343', [[13]]]}\n",
      "{'tokens': ['Laucke', \"'s\", 'snooker', 'winnings', 'allowed', 'him', 'to', 'finance', '110trips', 'from', 'Montreal', 'to', 'New', 'York', 'City', 'to', 'study', 'the', 'classical', 'guitar', 'with', 'Franco', '-', 'Spaniard', 'Rolando', 'Valdés', '-', 'Blain', '.'], 'h': ['rolando valdés-blain', 'Q24175034', [[24, 25, 26, 27]]], 't': ['classical guitar', 'Q719120', [[18, 19]]]}\n",
      "{'tokens': ['Gregory', \"'s\", 'harmonica', 'style', 'or', 'better', 'known', 'as', 'blues', 'harp', 'is', 'strongly', 'influenced', 'by', 'Chicago', 'players', 'such', 'as', 'Junior', 'Wells', 'and', 'Little', 'Walter', '.'], 'h': ['junior wells', 'Q542868', [[18, 19]]], 't': ['blues harp', 'Q51290', [[8, 9]]]}\n",
      "{'tokens': ['Nancy', 'Faust', '(', 'born', 'March', '11', ',', '1947', ')', 'is', 'an', 'American', 'former', 'stadium', 'organist', 'for', 'Major', 'League', 'Baseball', \"'s\", 'Chicago', 'White', 'Sox', '.'], 'h': ['nancy faust', 'Q6962679', [[0, 1]]], 't': ['organist', 'Q1444', [[14]]]}\n",
      "{'tokens': ['In', '2005', ',', 'together', 'with', 'father', 'Ernst', 'Ottensamer', 'and', 'his', 'older', 'brother', 'Daniel', 'Ottensamer', '(', 'both', 'solo', 'clarinettists', 'of', 'the', 'Vienna', 'Philharmonic', ')', ',', 'formed', 'the', 'clarinet', 'trio', 'The', 'Clarinotts', '.'], 'h': ['ernst ottensamer', 'Q89154', [[6, 7]]], 't': ['clarinet', 'Q8343', [[26]]]}\n",
      "{'tokens': ['The', 'song', 'was', 'also', 'well', 'received', 'by', 'former', 'King', 'Crimson', 'member', 'Greg', 'Lake', ',', 'the', 'original', 'lead', 'vocalist', 'and', 'bassist', 'on', '\"', '21st', 'Century', 'Schizoid', 'Man', '.', '\"'], 'h': ['greg lake', 'Q343075', [[11, 12]]], 't': ['bassist', 'Q46185', [[19]]]}\n",
      "{'tokens': ['Wharton', 'Tiers', '(', 'born', '1953', ',', 'in', 'Philadelphia', ')', 'is', 'an', 'American', 'audio', 'engineer', ',', 'record', 'producer', ',', 'drummer', 'and', 'percussionist', '.'], 'h': ['wharton tiers', 'Q3567603', [[0, 1]]], 't': ['drummer', 'Q128309', [[18]]]}\n",
      "{'tokens': ['Hansson', '&', 'Karlsson', 'was', 'a', 'Swedish', 'duo', 'consisting', 'of', 'Bo', 'Hansson', '(', 'organ', ')', 'and', 'Janne', 'Karlsson', '(', 'drums', ')', '.'], 'h': ['bo hansson', 'Q263337', [[9, 10]]], 't': ['organ', 'Q1444', [[12]]]}\n",
      "{'tokens': ['In', 'September', '2004', ',', 'Bryce', 'Soderberg', '(', 'previously', 'of', 'AM', 'Radio', ')', 'signed', 'on', 'as', 'Lifehouse', \"'s\", 'new', 'bassist', '.'], 'h': ['bryce soderberg', 'Q2919243', [[4, 5]]], 't': ['bassist', 'Q46185', [[18]]]}\n",
      "{'tokens': ['His', 'desire', 'to', 'play', 'the', 'bass', 'guitar', 'came', 'not', 'only', 'from', 'his', 'father', 'but', 'also', 'from', 'the', 'music', 'of', 'Chris', 'Squire', 'from', '\"', 'Yes', '\"', 'and', 'Geddy', 'Lee', 'from', '\"', 'Rush', '\"', '.'], 'h': ['geddy lee', 'Q320895', [[26, 27]]], 't': ['bass guitar', 'Q46185', [[5, 6]]]}\n",
      "{'tokens': ['Fountain', 'let', 'him', 'play', 'his', 'clarinet', 'and', 'gave', 'Rick', 'Bogart', 'advice', 'about', 'playing', 'the', 'clarinet', '.'], 'h': ['rick bogart', 'Q16148038', [[8, 9]]], 't': ['clarinet', 'Q8343', [[5], [14]]]}\n",
      "{'tokens': ['Kinan', 'Azmeh', '(', 'born', 'June', '10', ',', '1976', 'in', 'Damascus', ')', 'is', 'a', 'Syrian', 'clarinet', 'player', '.'], 'h': ['kinan azmeh', 'Q1512286', [[0, 1]]], 't': ['clarinet', 'Q8343', [[14]]]}\n",
      "{'tokens': ['The', 'album', 'features', 'Dave', 'Swarbrick', 'playing', 'fiddle', 'or', 'mandolin', 'on', 'a', 'number', 'of', 'the', 'tracks', '.'], 'h': ['dave swarbrick', 'Q763897', [[3, 4]]], 't': ['fiddle', 'Q510487', [[6]]]}\n",
      "{'tokens': ['Rémy', 'Couvez', 'is', 'a', 'French', 'composer', 'and', '\"', 'viellist', '\"', ',', 'a', 'musician', 'who', 'plays', 'the', 'hurdy', '-', 'gurdy', '.'], 'h': ['rémy couvez', 'Q3456132', [[0, 1]]], 't': ['hurdy-gurdy', 'Q207821', [[16, 17, 18]]]}\n",
      "{'tokens': ['Hermann', 'Neuling', '(', '17', 'July', '1897', '–', '29', 'January', '1967', ')', 'was', 'a', 'horn', 'player', 'and', 'composer', '.'], 'h': ['hermann neuling', 'Q1612258', [[0, 1]]], 't': ['horn', 'Q163759', [[13]]]}\n",
      "{'tokens': ['Some', 'of', 'its', 'members', 'included', 'the', 'bass', 'guitar', 'player', 'Bojan', 'Pečar', ',', 'formerly', 'a', 'member', 'of', 'Via', 'Talas', 'and', 'the', 'drummer', 'Srđan', 'Todorović', ',', 'who', 'later', 'rose', 'to', 'internationally', 'acclaimed', 'film', 'actor', '.'], 'h': ['bojan pečar', 'Q245784', [[9, 10]]], 't': ['bass guitar', 'Q46185', [[6, 7]]]}\n",
      "{'tokens': ['1', '\"', ',', 'featuring', 'Ben', 'Keith', 'on', 'pedal', 'steel', 'guitar', ',', 'Tim', 'Drummond', 'on', 'bass', 'guitar', ',', 'Kenny', 'Buttrey', 'on', 'drums', ',', 'and', 'Linda', 'Ronstadt', 'and', 'James', 'Taylor', 'on', 'background', 'vocals', '.'], 'h': ['kenny buttrey', 'Q524186', [[17, 18]]], 't': ['drums', 'Q128309', [[20]]]}\n",
      "{'tokens': ['Paul', 'William', 'Rutherford', '(', '29', 'February', '1940', '–', '5', 'August', '2007', ')', 'was', 'an', 'English', 'free', 'improvising', 'trombonist', '.'], 'h': ['paul william rutherford', 'Q177613', [[0, 1, 2]]], 't': ['trombonist', 'Q8350', [[17]]]}\n",
      "{'tokens': ['In', '1983', ',', 'she', 'formed', 'a', 'band', 'of', 'her', 'own', 'with', 'Paul', 'Motian', 'on', 'drums', 'and', 'Bill', 'Frisell', 'on', 'guitar', '.'], 'h': ['paul motian', 'Q740581', [[11, 12]]], 't': ['drums', 'Q128309', [[14]]]}\n",
      "{'tokens': ['Louis', 'François', 'Dauprat', '(', '24', 'May', '1781', 'in', 'Paris', '–', '16', 'July', '1868', 'in', 'Paris', ')', 'was', 'a', 'French', 'horn', 'player', ',', 'composer', 'and', 'music', 'professor', 'at', 'the', 'Conservatoire', 'de', 'Paris', '.'], 'h': ['louis françois dauprat', 'Q56649', [[0, 1, 2]]], 't': ['horn', 'Q163759', [[19]]]}\n",
      "{'tokens': ['Zonn', 'first', 'met', 'Alison', 'Krauss', 'at', 'a', 'fiddle', 'contest', 'at', 'the', 'Champaign', 'County', 'Fair', 'when', 'she', 'was', '10', '(', 'and', 'Alison', '8)', '.'], 'h': ['alison krauss', 'Q371782', [[3, 4]]], 't': ['fiddle', 'Q510487', [[7]]]}\n",
      "{'tokens': ['Lightning', 'Bolt', 'is', 'a', 'noise', 'rock', 'duo', 'from', 'Providence', ',', 'Rhode', 'Island', ',', 'composed', 'of', 'Brian', 'Chippendale', 'on', 'drums', 'and', 'vocals', 'and', 'Brian', 'Gibson', 'on', 'bass', 'guitar', '.'], 'h': ['brian chippendale', 'Q2924872', [[15, 16]]], 't': ['drums', 'Q128309', [[18]]]}\n",
      "{'tokens': ['Heinrich', 'Reimann', '(', 'March', '12', ',', '1850', '–', 'May', '24', ',', '1906', ')', ',', 'was', 'a', 'German', 'musicologist', ',', 'organist', ',', 'and', 'composer', '.'], 'h': ['heinrich reimann', 'Q88318', [[0, 1]]], 't': ['organist', 'Q1444', [[19]]]}\n",
      "{'tokens': ['Kai', 'Fagaschinski', '(', 'born', 'July', '10', ',', '1974', 'in', 'Dannenberg', ',', 'Lower', 'Saxony', ')', 'is', 'a', 'Berlin', 'based', 'free', 'improvisational', 'clarinet', 'player', 'and', 'composer', '.'], 'h': ['kai fagaschinski', 'Q1721295', [[0, 1]]], 't': ['clarinet', 'Q8343', [[20]]]}\n",
      "{'tokens': ['Francis', 'Wong', '(', 'Chinese', 'name', ':', '王世明', ';', 'pinyin', ':', 'Wáng', 'Shìmíng', ')', 'is', 'an', 'American', 'jazz', 'saxophonist', ',', 'flutist', ',', 'and', '\"', 'erhu', '\"', 'player', '.'], 'h': ['francis wong', 'Q5482837', [[0, 1]]], 't': ['saxophonist', 'Q9798', [[17]]]}\n",
      "{'tokens': ['Born', 'in', 'the', '6th', 'arrondissement', 'of', 'Paris', ',', 'Pierront', 'started', 'to', 'study', 'the', 'pipe', 'organ', 'with', 'Abel', 'Decaux', ',', 'Louis', 'Vierne', 'and', 'Vincent', 'd’Indy', 'at', 'the', 'Schola', 'Cantorum', 'de', 'Paris', '.'], 'h': ['abel decaux', 'Q318407', [[16, 17]]], 't': ['pipe organ', 'Q281460', [[13, 14]]]}\n",
      "{'tokens': ['In', '2015', 'Zamir', 'released', '\"', 'Redemption', 'Songs', '\"', 'on', 'Tzadik', ',', 'featuring', 'another', 'killing', 'band', 'including', 'Mark', 'Guiliana', 'on', 'drums', ',', 'Shai', 'Maestro', 'on', 'piano', 'and', 'more', 'great', 'Israeli', 'musicians', '.'], 'h': ['mark guiliana', 'Q3294095', [[16, 17]]], 't': ['drums', 'Q128309', [[19]]]}\n",
      "{'tokens': ['Claude', 'Jones', '(', 'February', '11', ',', '1901', '\\xa0', '–', 'January', '17', ',', '1962', ')', 'was', 'an', 'American', 'jazz', 'trombonist', '.'], 'h': ['claude jones', 'Q1096827', [[0, 1]]], 't': ['trombonist', 'Q8350', [[18]]]}\n"
     ]
    }
   ],
   "source": [
    "for i,m, z in zip(y_list, pred_result, test_index):\n",
    "    if i=='P1303':\n",
    "        print(instances[z])"
   ]
  },
  {
   "cell_type": "markdown",
   "metadata": {},
   "source": [
    "Тут мы видим определенный шаблон: имя собственное -- религия/муз.инструмент, очень похожая структура (хотя я бы сказала, что тут очень не хватает частей речи, которые бы сразу решили эту ситуацию)"
   ]
  },
  {
   "cell_type": "code",
   "execution_count": null,
   "metadata": {},
   "outputs": [],
   "source": []
  }
 ],
 "metadata": {
  "kernelspec": {
   "display_name": "Python 3",
   "language": "python",
   "name": "python3"
  },
  "language_info": {
   "codemirror_mode": {
    "name": "ipython",
    "version": 3
   },
   "file_extension": ".py",
   "mimetype": "text/x-python",
   "name": "python",
   "nbconvert_exporter": "python",
   "pygments_lexer": "ipython3",
   "version": "3.6.5"
  }
 },
 "nbformat": 4,
 "nbformat_minor": 2
}
